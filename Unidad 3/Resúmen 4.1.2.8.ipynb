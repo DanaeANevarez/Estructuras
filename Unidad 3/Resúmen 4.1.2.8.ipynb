{
 "cells": [
  {
   "cell_type": "markdown",
   "metadata": {},
   "source": [
    "# Resúmen 4.1.2.8"
   ]
  },
  {
   "cell_type": "markdown",
   "metadata": {},
   "source": [
    "## Funcion con un parametro"
   ]
  },
  {
   "cell_type": "code",
   "execution_count": 1,
   "metadata": {},
   "outputs": [
    {
     "name": "stdout",
     "output_type": "stream",
     "text": [
      "Hola Greg\n"
     ]
    }
   ],
   "source": [
    "def Hola(nombre):\n",
    "    print(\"Hola\", nombre)\n",
    "Hola(\"Greg\")"
   ]
  },
  {
   "cell_type": "markdown",
   "metadata": {},
   "source": [
    "## Funcion con dos parametros"
   ]
  },
  {
   "cell_type": "code",
   "execution_count": 2,
   "metadata": {},
   "outputs": [
    {
     "name": "stdout",
     "output_type": "stream",
     "text": [
      "Hola Felipe\n",
      "Hola Sebastian\n"
     ]
    }
   ],
   "source": [
    "def HolaTodos(nombre1, nombre2):\n",
    "    print(\"Hola\", nombre2)\n",
    "    print(\"Hola\", nombre1)\n",
    "HolaTodos(\"Sebastian\",\"Felipe\")"
   ]
  },
  {
   "cell_type": "markdown",
   "metadata": {},
   "source": [
    "## Funcion con tres parametros"
   ]
  },
  {
   "cell_type": "code",
   "execution_count": 4,
   "metadata": {},
   "outputs": [
    {
     "name": "stdout",
     "output_type": "stream",
     "text": [
      "Calle: Delphinus\n",
      "Código Postal: 34224\n",
      "Ciudad: Durango, Dgo.\n",
      "Tu direccion es: Delphinus Durango, Dgo. 34224\n"
     ]
    }
   ],
   "source": [
    "def direccion(calle, ciudad, codigopostal):\n",
    "    print(\"Tu direccion es:\", calle, ciudad, codigopostal)\n",
    "    \n",
    "c = input(\"Calle: \")\n",
    "codp = input(\"Código Postal: \")\n",
    "cd = input(\"Ciudad: \")\n",
    "\n",
    "direccion(c,cd,codp)"
   ]
  },
  {
   "cell_type": "markdown",
   "metadata": {},
   "source": [
    "## Ejemplo 1 - Paso de Argumentos Posicionales"
   ]
  },
  {
   "cell_type": "code",
   "execution_count": 6,
   "metadata": {},
   "outputs": [
    {
     "name": "stdout",
     "output_type": "stream",
     "text": [
      "3\n",
      "-3\n"
     ]
    }
   ],
   "source": [
    "def resta(a, b):\n",
    "    print(a - b)\n",
    "resta(5,2)  # salida= 3\n",
    "resta(2,5)  # salida= -3"
   ]
  },
  {
   "cell_type": "markdown",
   "metadata": {},
   "source": [
    "## Ejemplo 2 - Paso de Argumentos con Palabras Clave."
   ]
  },
  {
   "cell_type": "code",
   "execution_count": 7,
   "metadata": {},
   "outputs": [
    {
     "name": "stdout",
     "output_type": "stream",
     "text": [
      "3\n",
      "3\n"
     ]
    }
   ],
   "source": [
    "# Ejemplo 2.- Orden de los argumentos irrelevantes\n",
    "def resta(a,b):\n",
    "    print(a-b)\n",
    "resta(a=5, b=2)   #salida= 3\n",
    "resta(b=2, a=5)   #salida= 3"
   ]
  },
  {
   "cell_type": "markdown",
   "metadata": {},
   "source": [
    "## Ejemplo 3 - Mezcla de Argumentos Posicionales y con Palabras Clave"
   ]
  },
  {
   "cell_type": "code",
   "execution_count": 8,
   "metadata": {},
   "outputs": [
    {
     "name": "stdout",
     "output_type": "stream",
     "text": [
      "3\n",
      "3\n"
     ]
    }
   ],
   "source": [
    "def resta(a,b):\n",
    "    print(a - b)\n",
    "resta(5, b=2)   #salida= 3\n",
    "resta(5,2)      #salida= 3"
   ]
  },
  {
   "cell_type": "markdown",
   "metadata": {},
   "source": [
    "Es importante recordar que primero se especifican los argumentos posicionales y después los de palabras clave. \n",
    "Es por esa razón que si se intenta ejecutar el siguiente código:"
   ]
  },
  {
   "cell_type": "code",
   "execution_count": 16,
   "metadata": {},
   "outputs": [
    {
     "ename": "SyntaxError",
     "evalue": "positional argument follows keyword argument (<ipython-input-16-58a07785292b>, line 8)",
     "output_type": "error",
     "traceback": [
      "\u001b[1;36m  File \u001b[1;32m\"<ipython-input-16-58a07785292b>\"\u001b[1;36m, line \u001b[1;32m8\u001b[0m\n\u001b[1;33m    resta(a=5, 2)    # Syntax Error\u001b[0m\n\u001b[1;37m               ^\u001b[0m\n\u001b[1;31mSyntaxError\u001b[0m\u001b[1;31m:\u001b[0m positional argument follows keyword argument\n"
     ]
    }
   ],
   "source": [
    "def resta(a, b):\n",
    "    print(a - b)\n",
    "\n",
    "resta(5, b=2)    # salida: 3\n",
    "resta(a=5, 2)    # Syntax Error"
   ]
  },
  {
   "cell_type": "markdown",
   "metadata": {},
   "source": [
    "Python no lo ejecutará y marcará un error de sintaxis SyntaxError.\n"
   ]
  },
  {
   "cell_type": "markdown",
   "metadata": {},
   "source": [
    "## Asignar valores predefinidos a los argumentos con la técnica de argumentos con palabras clave."
   ]
  },
  {
   "cell_type": "code",
   "execution_count": 17,
   "metadata": {},
   "outputs": [
    {
     "name": "stdout",
     "output_type": "stream",
     "text": [
      "Andy Pérez\n",
      "Bety Rodríguez\n"
     ]
    }
   ],
   "source": [
    "def nombre(nombre, apellido=\"Pérez\"):\n",
    "    print(nombre, apellido)\n",
    "\n",
    "nombre(\"Andy\")    # salida: Andy Pérez\n",
    "nombre(\"Bety\", \"Rodríguez\")    # salida: Bety Johnson (el argumento de palabra clave es reemplazado por \" Rodríguez \")"
   ]
  },
  {
   "cell_type": "markdown",
   "metadata": {},
   "source": [
    "## Ejercicio 1"
   ]
  },
  {
   "cell_type": "code",
   "execution_count": 18,
   "metadata": {},
   "outputs": [
    {
     "name": "stdout",
     "output_type": "stream",
     "text": [
      "Mi nombre es Bond. James Bond.\n"
     ]
    }
   ],
   "source": [
    "def intro(a=\"James Bond\", b=\"Bond\"):\n",
    "    print(\"Mi nombre es\", b + \".\", a + \".\")\n",
    "\n",
    "intro()"
   ]
  },
  {
   "cell_type": "markdown",
   "metadata": {},
   "source": [
    "## Ejercicio 2"
   ]
  },
  {
   "cell_type": "code",
   "execution_count": 19,
   "metadata": {},
   "outputs": [
    {
     "name": "stdout",
     "output_type": "stream",
     "text": [
      "Mi nombre es Sergio López. James Bond.\n"
     ]
    }
   ],
   "source": [
    "def intro(a=\"James Bond\", b=\"Bond\"):\n",
    "    print(\"Mi nombre es\", b + \".\", a + \".\")\n",
    "\n",
    "intro(b=\"Sergio López\")"
   ]
  },
  {
   "cell_type": "markdown",
   "metadata": {},
   "source": [
    "## Ejercicio 3"
   ]
  },
  {
   "cell_type": "code",
   "execution_count": 20,
   "metadata": {},
   "outputs": [
    {
     "name": "stdout",
     "output_type": "stream",
     "text": [
      "Mi nombre es Bond. Susan.\n"
     ]
    }
   ],
   "source": [
    "def intro(a, b=\"Bond\"):\n",
    "    print(\"Mi nombre es\", b + \".\", a + \".\")\n",
    "\n",
    "intro(\"Susan\")"
   ]
  },
  {
   "cell_type": "markdown",
   "metadata": {},
   "source": [
    "## Ejercicio 4"
   ]
  },
  {
   "cell_type": "code",
   "execution_count": 21,
   "metadata": {},
   "outputs": [
    {
     "ename": "SyntaxError",
     "evalue": "non-default argument follows default argument (<ipython-input-21-f64550415488>, line 1)",
     "output_type": "error",
     "traceback": [
      "\u001b[1;36m  File \u001b[1;32m\"<ipython-input-21-f64550415488>\"\u001b[1;36m, line \u001b[1;32m1\u001b[0m\n\u001b[1;33m    def suma(a, b=2, c):\u001b[0m\n\u001b[1;37m             ^\u001b[0m\n\u001b[1;31mSyntaxError\u001b[0m\u001b[1;31m:\u001b[0m non-default argument follows default argument\n"
     ]
    }
   ],
   "source": [
    "def suma(a, b=2, c):\n",
    "    print(a + b + c)\n",
    "\n",
    "suma(a=1, c=3)"
   ]
  },
  {
   "cell_type": "markdown",
   "metadata": {},
   "source": [
    "## Mayela Danae Ayala Nevárez.\n",
    "## No. de Control: 19041342"
   ]
  }
 ],
 "metadata": {
  "kernelspec": {
   "display_name": "Python 3",
   "language": "python",
   "name": "python3"
  },
  "language_info": {
   "codemirror_mode": {
    "name": "ipython",
    "version": 3
   },
   "file_extension": ".py",
   "mimetype": "text/x-python",
   "name": "python",
   "nbconvert_exporter": "python",
   "pygments_lexer": "ipython3",
   "version": "3.8.3"
  }
 },
 "nbformat": 4,
 "nbformat_minor": 4
}
