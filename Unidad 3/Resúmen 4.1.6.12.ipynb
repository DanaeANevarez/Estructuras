{
 "cells": [
  {
   "cell_type": "markdown",
   "metadata": {},
   "source": [
    "# Resúmen 4.1.6.12"
   ]
  },
  {
   "cell_type": "markdown",
   "metadata": {},
   "source": [
    "### Ejercicio 1"
   ]
  },
  {
   "cell_type": "code",
   "execution_count": 1,
   "metadata": {},
   "outputs": [
    {
     "name": "stdout",
     "output_type": "stream",
     "text": [
      "3\n"
     ]
    }
   ],
   "source": [
    "miTup = (1, 2, 3)\n",
    "print(miTup[2])"
   ]
  },
  {
   "cell_type": "markdown",
   "metadata": {},
   "source": [
    "### Ejercicio 2"
   ]
  },
  {
   "cell_type": "code",
   "execution_count": 2,
   "metadata": {},
   "outputs": [
    {
     "name": "stdout",
     "output_type": "stream",
     "text": [
      "6\n"
     ]
    }
   ],
   "source": [
    "tup = 1, 2, 3\n",
    "a, b, c = tup\n",
    "\n",
    "print(a * b * c)"
   ]
  },
  {
   "cell_type": "markdown",
   "metadata": {},
   "source": [
    "El programa imprimirá 6 en pantalla. Los elementos de la tupla tup han sido \"desempaquetados\" en las variables a, b, y c.\n",
    "\n"
   ]
  },
  {
   "cell_type": "markdown",
   "metadata": {},
   "source": [
    "### Ejercicio 3\n",
    "Completa el código para emplear correctamente el método count() para encontrar la cantidad de 2 duplicados en la tupla siguiente."
   ]
  },
  {
   "cell_type": "code",
   "execution_count": null,
   "metadata": {},
   "outputs": [],
   "source": [
    "tup = 1, 2, 3, 2, 4, 5, 6, 2, 7, 2, 8, 9\n",
    "duplicados = # tu código\n",
    "\n",
    "print(duplicados)    # salida: 4"
   ]
  },
  {
   "cell_type": "code",
   "execution_count": 8,
   "metadata": {},
   "outputs": [
    {
     "name": "stdout",
     "output_type": "stream",
     "text": [
      "4\n"
     ]
    }
   ],
   "source": [
    "tup = 1, 2, 3, 2, 4, 5, 6, 2, 7, 2, 8, 9\n",
    "duplicates = tup.count(2)\n",
    "\n",
    "print(duplicates)    # salida: 4"
   ]
  },
  {
   "cell_type": "markdown",
   "metadata": {},
   "source": [
    "### Ejercicio 4\n",
    "Escribe un programa que \"una\" los dos diccionarios (d1 y d2) para crear uno nuevo (d3)."
   ]
  },
  {
   "cell_type": "code",
   "execution_count": null,
   "metadata": {},
   "outputs": [],
   "source": [
    "d1 = {'Adam Smith':'A', 'Judy Paxton':'B+'}\n",
    "d2 = {'Mary Louis':'A', 'Patrick White':'C'}\n",
    "d3 = {}\n",
    "\n",
    "for elemento in (d1, d2):\n",
    "    # tu código\n",
    "\n",
    "print(d3)"
   ]
  },
  {
   "cell_type": "code",
   "execution_count": 9,
   "metadata": {},
   "outputs": [
    {
     "name": "stdout",
     "output_type": "stream",
     "text": [
      "{'Adam Smith': 'A', 'Judy Paxton': 'B+', 'Mary Louis': 'A', 'Patrick White': 'C'}\n"
     ]
    }
   ],
   "source": [
    "d1 = {'Adam Smith':'A', 'Judy Paxton':'B+'}\n",
    "d2 = {'Mary Louis':'A', 'Patrick White':'C'}\n",
    "d3 = {}\n",
    "\n",
    "for elemento in (d1, d2):\n",
    "    d3.update(elemento)\n",
    "\n",
    "print(d3)"
   ]
  },
  {
   "cell_type": "markdown",
   "metadata": {},
   "source": [
    "### Ejercicio 5\n",
    "Escribe un programa que convierta la lista l en una tupla."
   ]
  },
  {
   "cell_type": "code",
   "execution_count": null,
   "metadata": {},
   "outputs": [],
   "source": [
    "l = [\"carro\", \"Ford\", \"flor\", \"Tulipán\"]\n",
    "\n",
    "t = # tu código\n",
    "print(t)"
   ]
  },
  {
   "cell_type": "code",
   "execution_count": 10,
   "metadata": {},
   "outputs": [
    {
     "name": "stdout",
     "output_type": "stream",
     "text": [
      "('carro', 'Ford', 'flor', 'Tulipán')\n"
     ]
    }
   ],
   "source": [
    "l = [\"carro\", \"Ford\", \"flor\", \"Tulipán\"]\n",
    "\n",
    "t = tuple(l)\n",
    "print(t)"
   ]
  },
  {
   "cell_type": "markdown",
   "metadata": {},
   "source": [
    "### Ejercicio 6\n",
    "\n",
    "Escribe un programa que convierta la tupla colores en un diccionario."
   ]
  },
  {
   "cell_type": "code",
   "execution_count": null,
   "metadata": {},
   "outputs": [],
   "source": [
    "colores = ((\"verde\", \"#008000\"), (\"azul\", \"#0000FF\"))\n",
    "\n",
    "# tu código\n",
    "\n",
    "print(colDict)"
   ]
  },
  {
   "cell_type": "code",
   "execution_count": 11,
   "metadata": {},
   "outputs": [
    {
     "name": "stdout",
     "output_type": "stream",
     "text": [
      "{'verde': '#008000', 'azul': '#0000FF'}\n"
     ]
    }
   ],
   "source": [
    "colores = ((\"verde\", \"#008000\"), (\"azul\", \"#0000FF\"))\n",
    "\n",
    "colDict = dict(colores)\n",
    "print(colDict)"
   ]
  },
  {
   "cell_type": "markdown",
   "metadata": {},
   "source": [
    "### Ejercicio 7\n",
    "\n",
    "¿Que ocurrirá cuando se ejecute el siguiente código?"
   ]
  },
  {
   "cell_type": "code",
   "execution_count": 18,
   "metadata": {},
   "outputs": [
    {
     "name": "stdout",
     "output_type": "stream",
     "text": [
      "{'A': 1, 'B': 2}\n"
     ]
    }
   ],
   "source": [
    "miDict = {\"A\":1, \"B\":2}\n",
    "copyMiDict = miDict.copy()\n",
    "miDict.clear()\n",
    "\n",
    "print(copyMiDict)"
   ]
  },
  {
   "cell_type": "markdown",
   "metadata": {},
   "source": [
    "El programa mostrará {'A': 1, 'B': 2} en pantalla\n",
    "\n"
   ]
  },
  {
   "cell_type": "markdown",
   "metadata": {},
   "source": [
    "### Ejercicio 8\n",
    "\n",
    "¿Cuál es la salida del siguiente programa?"
   ]
  },
  {
   "cell_type": "code",
   "execution_count": 19,
   "metadata": {},
   "outputs": [
    {
     "name": "stdout",
     "output_type": "stream",
     "text": [
      "blanco : (255, 255, 255)\n",
      "gris : (128, 128, 128)\n",
      "rojo : (255, 0, 0)\n",
      "verde : (0, 128, 0)\n"
     ]
    }
   ],
   "source": [
    "colores = {\n",
    "    \"blanco\" : (255, 255, 255),\n",
    "    \"gris\"   : (128, 128, 128),\n",
    "    \"rojo\"   : (255, 0, 0),\n",
    "    \"verde\"  : (0, 128, 0)\n",
    "    }\n",
    "\n",
    "for col, rgb in colores.items():\n",
    "    print(col, \":\", rgb)"
   ]
  },
  {
   "cell_type": "markdown",
   "metadata": {},
   "source": [
    "## Mayela Danae Ayala Nevárez.\n",
    "## No. de Control: 19041342"
   ]
  },
  {
   "cell_type": "code",
   "execution_count": null,
   "metadata": {},
   "outputs": [],
   "source": []
  }
 ],
 "metadata": {
  "kernelspec": {
   "display_name": "Python 3",
   "language": "python",
   "name": "python3"
  },
  "language_info": {
   "codemirror_mode": {
    "name": "ipython",
    "version": 3
   },
   "file_extension": ".py",
   "mimetype": "text/x-python",
   "name": "python",
   "nbconvert_exporter": "python",
   "pygments_lexer": "ipython3",
   "version": "3.8.3"
  }
 },
 "nbformat": 4,
 "nbformat_minor": 4
}
