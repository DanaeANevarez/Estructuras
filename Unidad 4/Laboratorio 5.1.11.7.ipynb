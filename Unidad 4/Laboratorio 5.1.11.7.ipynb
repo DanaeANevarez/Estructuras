{
 "cells": [
  {
   "cell_type": "markdown",
   "metadata": {},
   "source": [
    "# Laboratorio 5.1.11.7"
   ]
  },
  {
   "cell_type": "markdown",
   "metadata": {},
   "source": [
    "## Palíndromos"
   ]
  },
  {
   "cell_type": "markdown",
   "metadata": {},
   "source": [
    "###  Para palabras."
   ]
  },
  {
   "cell_type": "code",
   "execution_count": 38,
   "metadata": {},
   "outputs": [
    {
     "name": "stdout",
     "output_type": "stream",
     "text": [
      "Dame una cadena: rallar\n",
      "rallar\n",
      "Es palindromo\n"
     ]
    }
   ],
   "source": [
    "cadena1 = input(\"Dame una cadena: \")\n",
    "\n",
    "cadena_al_reves = cadena1[::-1]\n",
    "\n",
    "print(cadena_al_reves)\n",
    "\n",
    "if( cadena1 == cadena_al_reves ):\n",
    "    print(\"Es palindromo\")\n",
    "else:\n",
    "    print(\"No es palindromo\")"
   ]
  },
  {
   "cell_type": "code",
   "execution_count": 37,
   "metadata": {},
   "outputs": [
    {
     "name": "stdout",
     "output_type": "stream",
     "text": [
      "Ingrese la palabra que desea evaluar: roma\n",
      "¡El texto no es palindromo!\n"
     ]
    }
   ],
   "source": [
    "igual, aux = 0, 0\n",
    "\n",
    "texto = input(\"Ingrese la palabra que desea evaluar: \")\n",
    "\n",
    "for ind in reversed(range(0, len(texto))):\n",
    "    if texto[ind].lower() == texto[aux].lower():\n",
    "        igual += 1\n",
    "    aux += 1\n",
    "    \n",
    "if len(texto) == igual:\n",
    "    print(\"¡El texto es palindromo!\")\n",
    "    \n",
    "else:\n",
    "    print(\"¡El texto no es palindromo!\")"
   ]
  },
  {
   "cell_type": "markdown",
   "metadata": {},
   "source": [
    "### Para frases u oraciones."
   ]
  },
  {
   "cell_type": "code",
   "execution_count": 33,
   "metadata": {},
   "outputs": [
    {
     "name": "stdout",
     "output_type": "stream",
     "text": [
      "Ingrese la palabra que desea evaluar: Ten animals I slam in a net\n",
      "¡El texto es un palíndromo!\n"
     ]
    }
   ],
   "source": [
    "frase = input(\"Ingrese la palabra que desea evaluar: \")\n",
    "\n",
    "# Quitar espacios\n",
    "frase = \"\".join(frase.split())\n",
    "\n",
    "# Pasar todo a minúsculas\n",
    "frase =frase.lower()\n",
    "\n",
    "# Comprobar resultado palindrómico\n",
    "if frase == frase[::-1]:\n",
    "    print(\"¡El texto es un palíndromo!\")\n",
    "else:\n",
    "    print(\"¡El texto no es un palíndromo!\")\n"
   ]
  },
  {
   "cell_type": "markdown",
   "metadata": {},
   "source": [
    "## Mayela Danae Ayala Nevárez.\n",
    "## No. de Control: 19041342"
   ]
  },
  {
   "cell_type": "code",
   "execution_count": null,
   "metadata": {},
   "outputs": [],
   "source": []
  }
 ],
 "metadata": {
  "kernelspec": {
   "display_name": "Python 3",
   "language": "python",
   "name": "python3"
  },
  "language_info": {
   "codemirror_mode": {
    "name": "ipython",
    "version": 3
   },
   "file_extension": ".py",
   "mimetype": "text/x-python",
   "name": "python",
   "nbconvert_exporter": "python",
   "pygments_lexer": "ipython3",
   "version": "3.8.3"
  }
 },
 "nbformat": 4,
 "nbformat_minor": 4
}
