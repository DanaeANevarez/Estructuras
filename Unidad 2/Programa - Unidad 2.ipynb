{
 "cells": [
  {
   "cell_type": "markdown",
   "metadata": {},
   "source": [
    "# Unidad 2"
   ]
  },
  {
   "cell_type": "markdown",
   "metadata": {},
   "source": [
    "## Manejo de Listas en Python."
   ]
  },
  {
   "cell_type": "code",
   "execution_count": 17,
   "metadata": {},
   "outputs": [
    {
     "name": "stdout",
     "output_type": "stream",
     "text": [
      "['Futbol', 'Natacion', 'Tiro con arco', 'Box']\n"
     ]
    }
   ],
   "source": [
    "deportes = [ \"Futbol\", \"Natacion\", \"Tiro con arco\", \"Box\" ]\n",
    "print (deportes)"
   ]
  },
  {
   "cell_type": "code",
   "execution_count": 18,
   "metadata": {},
   "outputs": [
    {
     "name": "stdout",
     "output_type": "stream",
     "text": [
      "Natacion\n"
     ]
    }
   ],
   "source": [
    "# Acceder a una pocicion especifica de la lista\n",
    "print (deportes [1])"
   ]
  },
  {
   "cell_type": "code",
   "execution_count": 20,
   "metadata": {},
   "outputs": [
    {
     "name": "stdout",
     "output_type": "stream",
     "text": [
      "['Futbol Americano', 'Natacion', 'Tiro con arco', 'Box']\n"
     ]
    }
   ],
   "source": [
    "# Modificar un valor de la lista\n",
    "deportes[0] = \"Futbol Americano\"\n",
    "print(deportes)"
   ]
  },
  {
   "cell_type": "code",
   "execution_count": 21,
   "metadata": {},
   "outputs": [
    {
     "name": "stdout",
     "output_type": "stream",
     "text": [
      "la longitud de la lista de deportes es 4\n"
     ]
    }
   ],
   "source": [
    "print(\"la longitud de la lista de deportes es\", len(deportes))"
   ]
  },
  {
   "cell_type": "code",
   "execution_count": 22,
   "metadata": {},
   "outputs": [],
   "source": [
    "del deportes[0]"
   ]
  },
  {
   "cell_type": "code",
   "execution_count": 23,
   "metadata": {},
   "outputs": [
    {
     "name": "stdout",
     "output_type": "stream",
     "text": [
      "['Natacion', 'Tiro con arco', 'Box']\n"
     ]
    }
   ],
   "source": [
    "print(deportes)"
   ]
  },
  {
   "cell_type": "code",
   "execution_count": 24,
   "metadata": {},
   "outputs": [
    {
     "name": "stdout",
     "output_type": "stream",
     "text": [
      "la longitud de la lista de deportes es 3\n"
     ]
    }
   ],
   "source": [
    "print(\"la longitud de la lista de deportes es\", len(deportes))"
   ]
  },
  {
   "cell_type": "code",
   "execution_count": 25,
   "metadata": {},
   "outputs": [
    {
     "name": "stdout",
     "output_type": "stream",
     "text": [
      "Box\n"
     ]
    }
   ],
   "source": [
    "# Se pueden utilizar valores negativos en el indice para hacer una lectura de los datos de derecha a izquierda\n",
    "# empezando desde -1 que seria el ultimo valor de la lista\n",
    "print(deportes[-1])"
   ]
  },
  {
   "cell_type": "code",
   "execution_count": 26,
   "metadata": {},
   "outputs": [
    {
     "name": "stdout",
     "output_type": "stream",
     "text": [
      "Box\n"
     ]
    }
   ],
   "source": [
    "print(deportes[-1])"
   ]
  },
  {
   "cell_type": "code",
   "execution_count": 27,
   "metadata": {},
   "outputs": [
    {
     "ename": "IndexError",
     "evalue": "list index out of range",
     "output_type": "error",
     "traceback": [
      "\u001b[1;31m---------------------------------------------------------------------------\u001b[0m",
      "\u001b[1;31mIndexError\u001b[0m                                Traceback (most recent call last)",
      "\u001b[1;32m<ipython-input-27-8c653646de4f>\u001b[0m in \u001b[0;36m<module>\u001b[1;34m\u001b[0m\n\u001b[0;32m      1\u001b[0m \u001b[1;31m# No es posible realizar una consulta con un numero fuera del rango\u001b[0m\u001b[1;33m\u001b[0m\u001b[1;33m\u001b[0m\u001b[1;33m\u001b[0m\u001b[0m\n\u001b[1;32m----> 2\u001b[1;33m \u001b[0mprint\u001b[0m\u001b[1;33m(\u001b[0m\u001b[0mdeportes\u001b[0m\u001b[1;33m[\u001b[0m\u001b[1;33m-\u001b[0m\u001b[1;36m4\u001b[0m\u001b[1;33m]\u001b[0m\u001b[1;33m)\u001b[0m\u001b[1;33m\u001b[0m\u001b[1;33m\u001b[0m\u001b[0m\n\u001b[0m",
      "\u001b[1;31mIndexError\u001b[0m: list index out of range"
     ]
    }
   ],
   "source": [
    "# No es posible realizar una consulta con un numero fuera del rango\n",
    "print(deportes[-4])"
   ]
  },
  {
   "cell_type": "code",
   "execution_count": 28,
   "metadata": {},
   "outputs": [
    {
     "name": "stdout",
     "output_type": "stream",
     "text": [
      "['Natacion', 'Tiro con arco', 'Box']\n",
      "['Natacion', 'Tiro con arco', 'Box', 'Golf']\n"
     ]
    }
   ],
   "source": [
    "# Agregar elementos a la lista\n",
    "# Metodo APPEND lo agrega al final de la lista\n",
    "# Metodo INSERERT lo agrega en la posicion especificada\n",
    "print(deportes)\n",
    "deportes.append(\"Golf\")\n",
    "print(deportes)"
   ]
  },
  {
   "cell_type": "code",
   "execution_count": 29,
   "metadata": {},
   "outputs": [
    {
     "name": "stdout",
     "output_type": "stream",
     "text": [
      "['Natacion', 'Voleyball', 'Tiro con arco', 'Box', 'Golf']\n"
     ]
    }
   ],
   "source": [
    "deportes.insert(1, \"Voleyball\")\n",
    "print(deportes)"
   ]
  },
  {
   "cell_type": "code",
   "execution_count": 30,
   "metadata": {},
   "outputs": [
    {
     "name": "stdout",
     "output_type": "stream",
     "text": [
      "['Natacion', 'Voleyball', 'Tiro con arco', 'Box', 'Golf', 'Basquetball']\n"
     ]
    }
   ],
   "source": [
    "deportes.insert(8, \"Basquetball\")\n",
    "print(deportes)"
   ]
  },
  {
   "cell_type": "code",
   "execution_count": 31,
   "metadata": {},
   "outputs": [
    {
     "name": "stdout",
     "output_type": "stream",
     "text": [
      "['Natacion', 'Voleyball', 'Tiro con arco', 'Box', 'Golf', 'Basquetball', 'Atletismo']\n"
     ]
    }
   ],
   "source": [
    "deportes.insert(9, \"Atletismo\")\n",
    "print(deportes)"
   ]
  },
  {
   "cell_type": "code",
   "execution_count": 32,
   "metadata": {},
   "outputs": [
    {
     "name": "stdout",
     "output_type": "stream",
     "text": [
      "la longitud de la lista de deportes es:  7\n"
     ]
    }
   ],
   "source": [
    "print(\"la longitud de la lista de deportes es: \", len(deportes))"
   ]
  },
  {
   "cell_type": "code",
   "execution_count": 33,
   "metadata": {},
   "outputs": [
    {
     "name": "stdout",
     "output_type": "stream",
     "text": [
      "Natacion\n",
      "Voleyball\n",
      "Tiro con arco\n",
      "Box\n",
      "Golf\n",
      "Basquetball\n",
      "Atletismo\n"
     ]
    }
   ],
   "source": [
    "for x in deportes:\n",
    "    print(x)"
   ]
  },
  {
   "cell_type": "code",
   "execution_count": 34,
   "metadata": {},
   "outputs": [
    {
     "name": "stdout",
     "output_type": "stream",
     "text": [
      "Golf si se encuetra en la lista de deportes\n"
     ]
    }
   ],
   "source": [
    "if \"Golf\" in deportes:\n",
    "    print(\"Golf si se encuetra en la lista de deportes\")\n",
    "else:\n",
    "    print(\"Golf No se encuentra en la lista de deportes\")"
   ]
  },
  {
   "cell_type": "code",
   "execution_count": 35,
   "metadata": {},
   "outputs": [
    {
     "name": "stdout",
     "output_type": "stream",
     "text": [
      "Golf No se encuentra en la lista de deportes\n"
     ]
    }
   ],
   "source": [
    "if \"golf\" in deportes:\n",
    "    print(\"Golf si se encuetra en la lista de deportes\")\n",
    "else:\n",
    "    print(\"Golf No se encuentra en la lista de deportes\")"
   ]
  },
  {
   "cell_type": "code",
   "execution_count": 36,
   "metadata": {},
   "outputs": [
    {
     "name": "stdout",
     "output_type": "stream",
     "text": [
      "[]\n"
     ]
    }
   ],
   "source": [
    "listadenumeros = []\n",
    "print(listadenumeros)"
   ]
  },
  {
   "cell_type": "code",
   "execution_count": 37,
   "metadata": {},
   "outputs": [
    {
     "name": "stdout",
     "output_type": "stream",
     "text": [
      "[1, 2, 3, 4]\n"
     ]
    }
   ],
   "source": [
    "for i in range (1,5):\n",
    "    listadenumeros.append(i)\n",
    "print(listadenumeros)"
   ]
  },
  {
   "cell_type": "markdown",
   "metadata": {},
   "source": [
    "### Listas y Bucles."
   ]
  },
  {
   "cell_type": "code",
   "execution_count": 1,
   "metadata": {},
   "outputs": [
    {
     "name": "stdout",
     "output_type": "stream",
     "text": [
      "1 1\n"
     ]
    }
   ],
   "source": [
    "variable1 = 1\n",
    "variable2 = 2\n",
    "\n",
    "variable2 = variable1\n",
    "variable1 = variable2 \n",
    "print(variable1, variable2)"
   ]
  },
  {
   "cell_type": "code",
   "execution_count": 3,
   "metadata": {},
   "outputs": [
    {
     "name": "stdout",
     "output_type": "stream",
     "text": [
      "2 1\n"
     ]
    }
   ],
   "source": [
    "variable1 = 1\n",
    "variable2 = 2\n",
    "\n",
    "auxiliar = variable1\n",
    "variable1 = variable2\n",
    "variable2 = auxiliar \n",
    "print(variable1, variable2)"
   ]
  },
  {
   "cell_type": "code",
   "execution_count": 4,
   "metadata": {},
   "outputs": [
    {
     "name": "stdout",
     "output_type": "stream",
     "text": [
      "2 1\n"
     ]
    }
   ],
   "source": [
    "variable1 = 1\n",
    "variable2 = 2\n",
    "\n",
    "variable1, variable2 = variable2, variable1 \n",
    "print(variable1, variable2)"
   ]
  },
  {
   "cell_type": "code",
   "execution_count": 5,
   "metadata": {},
   "outputs": [
    {
     "name": "stdout",
     "output_type": "stream",
     "text": [
      "[5, 3, 8, 1, 10]\n"
     ]
    }
   ],
   "source": [
    "# Reasignación de valores en una sola línea.\n",
    "miLista = [10, 1, 8, 3, 5]\n",
    "\n",
    "miLista [0], miLista [4] = miLista [4], miLista [0]\n",
    "miLista [1], miLista [3] = miLista [3], miLista [1]\n",
    "\n",
    "print(miLista) "
   ]
  },
  {
   "cell_type": "markdown",
   "metadata": {},
   "source": [
    "## Laboratorio 3.1.4.6 - Lo básico de listas."
   ]
  },
  {
   "cell_type": "code",
   "execution_count": 38,
   "metadata": {},
   "outputs": [
    {
     "name": "stdout",
     "output_type": "stream",
     "text": [
      "ingresa el valor a sustituir: 11\n",
      "4\n",
      "[1, 2, 11, 4]\n"
     ]
    }
   ],
   "source": [
    "ListaSombrero = [1,2,3,4,5] # Lista de numeros ocultos en el sombrero\n",
    "\n",
    "# Paso 1: Escribe una linea de codigo que solicite el usuario.\n",
    "# para reemplazar el numero de en medio con un numero entero ingresado por el usuario.\n",
    "ListaSombrero[2] = int(input(\"ingresa el valor a sustituir: \"))\n",
    "\n",
    "# Paso 2: Escribe aqui la linea de codigo que elimine el ultimo elemento de la lista.\n",
    "del ListaSombrero[4]\n",
    "\n",
    "# Paso 3: Escriba aqui una linea de codigo que imprima la longitud de la lista existente.\n",
    "print (len(ListaSombrero))\n",
    "print (ListaSombrero)"
   ]
  },
  {
   "cell_type": "markdown",
   "metadata": {},
   "source": [
    "### Ordenamiento de listas mediante el método de la burbuja."
   ]
  },
  {
   "cell_type": "code",
   "execution_count": 8,
   "metadata": {},
   "outputs": [
    {
     "name": "stdout",
     "output_type": "stream",
     "text": [
      "[8, 6, 2, 4, 10]\n"
     ]
    }
   ],
   "source": [
    "miLista = [8, 10, 6, 2, 4]\n",
    "for i in range(len(miLista) - 1): # necesitamos (5 - 1) comparaciones\n",
    "    if miLista[i] > miLista[i + 1]: # compara elementos adyacentes\n",
    "        miLista[i], miLista [i + 1] = miLista[i + 1], miLista[i] # si terminamos aquí significa que tenemos que intercambiar los elementos.\n",
    "print(miLista)"
   ]
  },
  {
   "cell_type": "code",
   "execution_count": 9,
   "metadata": {},
   "outputs": [
    {
     "name": "stdout",
     "output_type": "stream",
     "text": [
      "[2, 4, 6, 8, 10]\n"
     ]
    }
   ],
   "source": [
    "miLista = [8, 10, 6, 2, 4] # lista para ordenar\n",
    "swapped = True # lo necesitamos verdadero (True) para ingresar al bucle while\n",
    "\n",
    "while swapped:\n",
    "    swapped = False # no hay swaps hasta ahora\n",
    "    for i in range(len(miLista) - 1):\n",
    "        if miLista[i] > miLista[i + 1]:\n",
    "            swapped= True # ocurrió el intercambio!\n",
    "            miLista[i], miLista[i + 1] = miLista[i + 1], miLista[i]\n",
    "\n",
    "print(miLista)"
   ]
  },
  {
   "cell_type": "code",
   "execution_count": 12,
   "metadata": {},
   "outputs": [
    {
     "name": "stdout",
     "output_type": "stream",
     "text": [
      "¿Cuántos elementos deseas ordenar?:5\n",
      "Introduce un elemento de la lista:60\n",
      "Introduce un elemento de la lista:31\n",
      "Introduce un elemento de la lista:96\n",
      "Introduce un elemento de la lista:45\n",
      "Introduce un elemento de la lista:85\n",
      "\n",
      "Ordenado:\n",
      "[31, 45, 60, 85, 96]\n"
     ]
    }
   ],
   "source": [
    "miLista = []\n",
    "swapped = True\n",
    "num = int (input(\"¿Cuántos elementos deseas ordenar?:\"))\n",
    "\n",
    "for i in range(num):\n",
    "    val = int(input(\"Introduce un elemento de la lista:\"))\n",
    "    miLista.append(val)\n",
    "\n",
    "while swapped:\n",
    "    swapped = False\n",
    "    for i in range(len(miLista) - 1):\n",
    "        if miLista[i] > miLista[i + 1]:\n",
    "            swapped = True\n",
    "            miLista[i], miLista[i + 1] = miLista[i + 1], miLista[i]\n",
    "\n",
    "print(\"\\nOrdenado:\")\n",
    "print(miLista)\n"
   ]
  },
  {
   "cell_type": "code",
   "execution_count": 2,
   "metadata": {},
   "outputs": [
    {
     "name": "stdout",
     "output_type": "stream",
     "text": [
      "15\n"
     ]
    }
   ],
   "source": [
    "# Buscar el elemento mayor de la lista.\n",
    "miLista = [1, 3, 11, 5, 1, 9, 7, 15, 13]\n",
    "mayor = miLista[0]\n",
    "\n",
    "for i in range(1, len(miLista)):\n",
    "   if miLista [i]> mayor:\n",
    "        mayor = miLista[i]\n",
    "\n",
    "print(mayor)\n"
   ]
  },
  {
   "cell_type": "code",
   "execution_count": 3,
   "metadata": {},
   "outputs": [
    {
     "name": "stdout",
     "output_type": "stream",
     "text": [
      "Elemento encontrado en el índice 4\n"
     ]
    }
   ],
   "source": [
    "# Buscar un elemento dentro de una lista con una expresión de doble asignación.\n",
    "miLista = [1, 2, 3, 4, 5, 6, 7, 8, 9, 10]\n",
    "Encontrar = 5\n",
    "Encontrado = False\n",
    "\n",
    "for i in range(len(miLista)):\n",
    "    Encontrado = miLista[i] == Encontrar\n",
    "    if Encontrado:\n",
    "        break\n",
    "\n",
    "if Encontrado:\n",
    "    print(\"Elemento encontrado en el índice\", i)\n",
    "else:\n",
    "    print(\"ausente\")"
   ]
  },
  {
   "cell_type": "markdown",
   "metadata": {},
   "source": [
    "## Resúmen - Ejercicios 3.1.5.4"
   ]
  },
  {
   "cell_type": "markdown",
   "metadata": {},
   "source": [
    "### Método SORT"
   ]
  },
  {
   "cell_type": "code",
   "execution_count": 40,
   "metadata": {},
   "outputs": [
    {
     "name": "stdout",
     "output_type": "stream",
     "text": [
      "[5, 3, 1, 2, 4]\n",
      "[1, 2, 3, 4, 5]\n"
     ]
    }
   ],
   "source": [
    "# Ordenar automáticamente una lista con el método SORT\n",
    "lst = [5, 3, 1, 2, 4]\n",
    "print(lst)\n",
    "\n",
    "lst.sort ()\n",
    "print(lst) # salida: [1, 2, 3, 4, 5]"
   ]
  },
  {
   "cell_type": "markdown",
   "metadata": {},
   "source": [
    "### Método REVERSE."
   ]
  },
  {
   "cell_type": "code",
   "execution_count": 41,
   "metadata": {},
   "outputs": [
    {
     "name": "stdout",
     "output_type": "stream",
     "text": [
      "[5, 3, 1, 2, 4]\n",
      "[4, 2, 1, 3, 5]\n"
     ]
    }
   ],
   "source": [
    "# Revertir la lista con el método REVERSE\n",
    "lst = [5, 3, 1, 2, 4]\n",
    "print(lst)\n",
    "    \n",
    "lst.reverse()\n",
    "print (lst) # salida: [4, 2, 1, 3, 5]"
   ]
  },
  {
   "cell_type": "markdown",
   "metadata": {},
   "source": [
    "### Ordenar Alfabéticamente."
   ]
  },
  {
   "cell_type": "code",
   "execution_count": 42,
   "metadata": {},
   "outputs": [
    {
     "name": "stdout",
     "output_type": "stream",
     "text": [
      "['A', 'D', 'F', 'Z']\n"
     ]
    }
   ],
   "source": [
    "# También es posible ordenar alfabeticamente\n",
    "lst = [\"D\", \"F\", \"A\", \"Z\"]\n",
    "lst.sort ()\n",
    "\n",
    "print(lst)"
   ]
  },
  {
   "cell_type": "code",
   "execution_count": 43,
   "metadata": {},
   "outputs": [
    {
     "name": "stdout",
     "output_type": "stream",
     "text": [
      "[1, 2, 3]\n"
     ]
    }
   ],
   "source": [
    "# Ordenar los numeros almacenados en variables a, b, c\n",
    "a = 3\n",
    "b = 1\n",
    "c = 2\n",
    "\n",
    "lst = [a, c, b]\n",
    "lst.sort ()\n",
    "\n",
    "print(lst)"
   ]
  },
  {
   "cell_type": "code",
   "execution_count": 44,
   "metadata": {},
   "outputs": [
    {
     "name": "stdout",
     "output_type": "stream",
     "text": [
      "['', 'C', 'B', 'A']\n"
     ]
    }
   ],
   "source": [
    "# Revertir la lista\n",
    "a = \"A\"\n",
    "b = \"B\"\n",
    "c = \"C\"\n",
    "d = \"\"\n",
    "\n",
    "lst = [a, b, c, d]\n",
    "lst.reverse ()\n",
    "\n",
    "print(lst)"
   ]
  },
  {
   "cell_type": "code",
   "execution_count": 45,
   "metadata": {},
   "outputs": [
    {
     "name": "stdout",
     "output_type": "stream",
     "text": [
      "17\n"
     ]
    }
   ],
   "source": [
    "# Buscar el elemento mayor en una lista\n",
    "miLista = [17, 3, 11, 5, 1, 9, 7, 15, 13]\n",
    "mayor = miLista[0]\n",
    "\n",
    "for i in range(1, len(miLista)):\n",
    "   if miLista [i]> mayor:\n",
    "        mayor = miLista[i]\n",
    "\n",
    "print(mayor)"
   ]
  },
  {
   "cell_type": "code",
   "execution_count": 46,
   "metadata": {},
   "outputs": [
    {
     "name": "stdout",
     "output_type": "stream",
     "text": [
      "Elemento encontrado en el índice 4\n"
     ]
    }
   ],
   "source": [
    "miLista = [1, 2, 3, 4, 5, 6, 7, 8, 9, 10]\n",
    "Encontrar = 5\n",
    "Encontrado = False\n",
    "\n",
    "for i in range(len(miLista)):\n",
    "    Encontrado = miLista[i] == Encontrar # Es como decir if miLista[i] Encontrado=True\n",
    "    if Encontrado:\n",
    "        break\n",
    "\n",
    "if Encontrado:\n",
    "    print(\"Elemento encontrado en el índice\", i)\n",
    "else:\n",
    "    print(\"ausente\")"
   ]
  },
  {
   "cell_type": "markdown",
   "metadata": {},
   "source": [
    "## Tablero de ajedrez con listas de Python."
   ]
  },
  {
   "cell_type": "code",
   "execution_count": 11,
   "metadata": {},
   "outputs": [
    {
     "name": "stdout",
     "output_type": "stream",
     "text": [
      "[[0, 0, 0, 0, 0, 0, 0, 0]]\n",
      "[[0, 0, 0, 0, 0, 0, 0, 0], [0, 0, 0, 0, 0, 0, 0, 0]]\n",
      "[[0, 0, 0, 0, 0, 0, 0, 0], [0, 0, 0, 0, 0, 0, 0, 0], [0, 0, 0, 0, 0, 0, 0, 0]]\n",
      "[[0, 0, 0, 0, 0, 0, 0, 0], [0, 0, 0, 0, 0, 0, 0, 0], [0, 0, 0, 0, 0, 0, 0, 0], [0, 0, 0, 0, 0, 0, 0, 0]]\n",
      "[[0, 0, 0, 0, 0, 0, 0, 0], [0, 0, 0, 0, 0, 0, 0, 0], [0, 0, 0, 0, 0, 0, 0, 0], [0, 0, 0, 0, 0, 0, 0, 0], [0, 0, 0, 0, 0, 0, 0, 0]]\n",
      "[[0, 0, 0, 0, 0, 0, 0, 0], [0, 0, 0, 0, 0, 0, 0, 0], [0, 0, 0, 0, 0, 0, 0, 0], [0, 0, 0, 0, 0, 0, 0, 0], [0, 0, 0, 0, 0, 0, 0, 0], [0, 0, 0, 0, 0, 0, 0, 0]]\n",
      "[[0, 0, 0, 0, 0, 0, 0, 0], [0, 0, 0, 0, 0, 0, 0, 0], [0, 0, 0, 0, 0, 0, 0, 0], [0, 0, 0, 0, 0, 0, 0, 0], [0, 0, 0, 0, 0, 0, 0, 0], [0, 0, 0, 0, 0, 0, 0, 0], [0, 0, 0, 0, 0, 0, 0, 0]]\n",
      "[[0, 0, 0, 0, 0, 0, 0, 0], [0, 0, 0, 0, 0, 0, 0, 0], [0, 0, 0, 0, 0, 0, 0, 0], [0, 0, 0, 0, 0, 0, 0, 0], [0, 0, 0, 0, 0, 0, 0, 0], [0, 0, 0, 0, 0, 0, 0, 0], [0, 0, 0, 0, 0, 0, 0, 0], [0, 0, 0, 0, 0, 0, 0, 0]]\n"
     ]
    }
   ],
   "source": [
    "# Aplicaciones reales de listas (Tablero de Ajedrez).\n",
    "tablero  = []\n",
    "EMPTY = 0\n",
    "for i in range(8):\n",
    "    fila = [EMPTY for i in range(8)]\n",
    "    tablero.append(fila)\n",
    "    \n",
    "    print(tablero)"
   ]
  },
  {
   "cell_type": "code",
   "execution_count": 14,
   "metadata": {},
   "outputs": [
    {
     "name": "stdout",
     "output_type": "stream",
     "text": [
      "[['TORRE', '-', '-', '-', '-', '-', '-', 'TORRE'], ['-', '-', '-', '-', '-', '-', '-', '-'], ['-', '-', '-', '-', '-', '-', '-', '-'], ['-', '-', '-', '-', '-', '-', '-', '-'], ['-', '-', '-', '-', '-', '-', '-', '-'], ['-', '-', '-', '-', '-', '-', '-', '-'], ['-', '-', '-', '-', '-', '-', '-', '-'], ['TORRE', '-', '-', '-', '-', '-', '-', 'TORRE']]\n"
     ]
    }
   ],
   "source": [
    "EMPTY = \"-\"\n",
    "TORRE = \"TORRE\"\n",
    "tablero = []\n",
    "\n",
    "for i in range(8):\n",
    "    fila = [EMPTY for i in range(8)]\n",
    "    tablero.append (fila)\n",
    "\n",
    "tablero[0][0] = TORRE\n",
    "tablero[0][7] = TORRE\n",
    "tablero[7][0] = TORRE\n",
    "tablero[7][7] = TORRE\n",
    "\n",
    "print(tablero)"
   ]
  },
  {
   "cell_type": "code",
   "execution_count": 15,
   "metadata": {},
   "outputs": [
    {
     "name": "stdout",
     "output_type": "stream",
     "text": [
      "[['TORRE', '-', '-', '-', '-', '-', '-', 'TORRE'], ['-', '-', '-', '-', '-', '-', '-', '-'], ['-', '-', '-', '-', '-', '-', '-', '-'], ['-', '-', '-', '-', '-', '-', '-', '-'], ['-', '-', 'CABALLO', '-', '-', '-', '-', '-'], ['-', '-', '-', '-', '-', '-', '-', '-'], ['-', '-', '-', '-', '-', '-', '-', '-'], ['TORRE', '-', '-', '-', '-', '-', '-', 'TORRE']]\n"
     ]
    }
   ],
   "source": [
    "tablero[4][2] = 'CABALLO'\n",
    "print (tablero)"
   ]
  },
  {
   "cell_type": "code",
   "execution_count": 16,
   "metadata": {},
   "outputs": [
    {
     "name": "stdout",
     "output_type": "stream",
     "text": [
      "[[0.0, 0.0, 0.0, 0.0, 0.0, 0.0, 0.0, 0.0, 0.0, 0.0, 0.0, 0.0, 0.0, 0.0, 0.0, 0.0, 0.0, 0.0, 0.0, 0.0, 0.0, 0.0, 0.0, 0.0], [0.0, 0.0, 0.0, 0.0, 0.0, 0.0, 0.0, 0.0, 0.0, 0.0, 0.0, 0.0, 0.0, 0.0, 0.0, 0.0, 0.0, 0.0, 0.0, 0.0, 0.0, 0.0, 0.0, 0.0], [0.0, 0.0, 0.0, 0.0, 0.0, 0.0, 0.0, 0.0, 0.0, 0.0, 0.0, 0.0, 0.0, 0.0, 0.0, 0.0, 0.0, 0.0, 0.0, 0.0, 0.0, 0.0, 0.0, 0.0], [0.0, 0.0, 0.0, 0.0, 0.0, 0.0, 0.0, 0.0, 0.0, 0.0, 0.0, 0.0, 0.0, 0.0, 0.0, 0.0, 0.0, 0.0, 0.0, 0.0, 0.0, 0.0, 0.0, 0.0], [0.0, 0.0, 0.0, 0.0, 0.0, 0.0, 0.0, 0.0, 0.0, 0.0, 0.0, 0.0, 0.0, 0.0, 0.0, 0.0, 0.0, 0.0, 0.0, 0.0, 0.0, 0.0, 0.0, 0.0], [0.0, 0.0, 0.0, 0.0, 0.0, 0.0, 0.0, 0.0, 0.0, 0.0, 0.0, 0.0, 0.0, 0.0, 0.0, 0.0, 0.0, 0.0, 0.0, 0.0, 0.0, 0.0, 0.0, 0.0], [0.0, 0.0, 0.0, 0.0, 0.0, 0.0, 0.0, 0.0, 0.0, 0.0, 0.0, 0.0, 0.0, 0.0, 0.0, 0.0, 0.0, 0.0, 0.0, 0.0, 0.0, 0.0, 0.0, 0.0], [0.0, 0.0, 0.0, 0.0, 0.0, 0.0, 0.0, 0.0, 0.0, 0.0, 0.0, 0.0, 0.0, 0.0, 0.0, 0.0, 0.0, 0.0, 0.0, 0.0, 0.0, 0.0, 0.0, 0.0], [0.0, 0.0, 0.0, 0.0, 0.0, 0.0, 0.0, 0.0, 0.0, 0.0, 0.0, 0.0, 0.0, 0.0, 0.0, 0.0, 0.0, 0.0, 0.0, 0.0, 0.0, 0.0, 0.0, 0.0], [0.0, 0.0, 0.0, 0.0, 0.0, 0.0, 0.0, 0.0, 0.0, 0.0, 0.0, 0.0, 0.0, 0.0, 0.0, 0.0, 0.0, 0.0, 0.0, 0.0, 0.0, 0.0, 0.0, 0.0], [0.0, 0.0, 0.0, 0.0, 0.0, 0.0, 0.0, 0.0, 0.0, 0.0, 0.0, 0.0, 0.0, 0.0, 0.0, 0.0, 0.0, 0.0, 0.0, 0.0, 0.0, 0.0, 0.0, 0.0], [0.0, 0.0, 0.0, 0.0, 0.0, 0.0, 0.0, 0.0, 0.0, 0.0, 0.0, 0.0, 0.0, 0.0, 0.0, 0.0, 0.0, 0.0, 0.0, 0.0, 0.0, 0.0, 0.0, 0.0], [0.0, 0.0, 0.0, 0.0, 0.0, 0.0, 0.0, 0.0, 0.0, 0.0, 0.0, 0.0, 0.0, 0.0, 0.0, 0.0, 0.0, 0.0, 0.0, 0.0, 0.0, 0.0, 0.0, 0.0], [0.0, 0.0, 0.0, 0.0, 0.0, 0.0, 0.0, 0.0, 0.0, 0.0, 0.0, 0.0, 0.0, 0.0, 0.0, 0.0, 0.0, 0.0, 0.0, 0.0, 0.0, 0.0, 0.0, 0.0], [0.0, 0.0, 0.0, 0.0, 0.0, 0.0, 0.0, 0.0, 0.0, 0.0, 0.0, 0.0, 0.0, 0.0, 0.0, 0.0, 0.0, 0.0, 0.0, 0.0, 0.0, 0.0, 0.0, 0.0], [0.0, 0.0, 0.0, 0.0, 0.0, 0.0, 0.0, 0.0, 0.0, 0.0, 0.0, 0.0, 0.0, 0.0, 0.0, 0.0, 0.0, 0.0, 0.0, 0.0, 0.0, 0.0, 0.0, 0.0], [0.0, 0.0, 0.0, 0.0, 0.0, 0.0, 0.0, 0.0, 0.0, 0.0, 0.0, 0.0, 0.0, 0.0, 0.0, 0.0, 0.0, 0.0, 0.0, 0.0, 0.0, 0.0, 0.0, 0.0], [0.0, 0.0, 0.0, 0.0, 0.0, 0.0, 0.0, 0.0, 0.0, 0.0, 0.0, 0.0, 0.0, 0.0, 0.0, 0.0, 0.0, 0.0, 0.0, 0.0, 0.0, 0.0, 0.0, 0.0], [0.0, 0.0, 0.0, 0.0, 0.0, 0.0, 0.0, 0.0, 0.0, 0.0, 0.0, 0.0, 0.0, 0.0, 0.0, 0.0, 0.0, 0.0, 0.0, 0.0, 0.0, 0.0, 0.0, 0.0], [0.0, 0.0, 0.0, 0.0, 0.0, 0.0, 0.0, 0.0, 0.0, 0.0, 0.0, 0.0, 0.0, 0.0, 0.0, 0.0, 0.0, 0.0, 0.0, 0.0, 0.0, 0.0, 0.0, 0.0], [0.0, 0.0, 0.0, 0.0, 0.0, 0.0, 0.0, 0.0, 0.0, 0.0, 0.0, 0.0, 0.0, 0.0, 0.0, 0.0, 0.0, 0.0, 0.0, 0.0, 0.0, 0.0, 0.0, 0.0], [0.0, 0.0, 0.0, 0.0, 0.0, 0.0, 0.0, 0.0, 0.0, 0.0, 0.0, 0.0, 0.0, 0.0, 0.0, 0.0, 0.0, 0.0, 0.0, 0.0, 0.0, 0.0, 0.0, 0.0], [0.0, 0.0, 0.0, 0.0, 0.0, 0.0, 0.0, 0.0, 0.0, 0.0, 0.0, 0.0, 0.0, 0.0, 0.0, 0.0, 0.0, 0.0, 0.0, 0.0, 0.0, 0.0, 0.0, 0.0], [0.0, 0.0, 0.0, 0.0, 0.0, 0.0, 0.0, 0.0, 0.0, 0.0, 0.0, 0.0, 0.0, 0.0, 0.0, 0.0, 0.0, 0.0, 0.0, 0.0, 0.0, 0.0, 0.0, 0.0], [0.0, 0.0, 0.0, 0.0, 0.0, 0.0, 0.0, 0.0, 0.0, 0.0, 0.0, 0.0, 0.0, 0.0, 0.0, 0.0, 0.0, 0.0, 0.0, 0.0, 0.0, 0.0, 0.0, 0.0], [0.0, 0.0, 0.0, 0.0, 0.0, 0.0, 0.0, 0.0, 0.0, 0.0, 0.0, 0.0, 0.0, 0.0, 0.0, 0.0, 0.0, 0.0, 0.0, 0.0, 0.0, 0.0, 0.0, 0.0], [0.0, 0.0, 0.0, 0.0, 0.0, 0.0, 0.0, 0.0, 0.0, 0.0, 0.0, 0.0, 0.0, 0.0, 0.0, 0.0, 0.0, 0.0, 0.0, 0.0, 0.0, 0.0, 0.0, 0.0], [0.0, 0.0, 0.0, 0.0, 0.0, 0.0, 0.0, 0.0, 0.0, 0.0, 0.0, 0.0, 0.0, 0.0, 0.0, 0.0, 0.0, 0.0, 0.0, 0.0, 0.0, 0.0, 0.0, 0.0], [0.0, 0.0, 0.0, 0.0, 0.0, 0.0, 0.0, 0.0, 0.0, 0.0, 0.0, 0.0, 0.0, 0.0, 0.0, 0.0, 0.0, 0.0, 0.0, 0.0, 0.0, 0.0, 0.0, 0.0], [0.0, 0.0, 0.0, 0.0, 0.0, 0.0, 0.0, 0.0, 0.0, 0.0, 0.0, 0.0, 0.0, 0.0, 0.0, 0.0, 0.0, 0.0, 0.0, 0.0, 0.0, 0.0, 0.0, 0.0], [0.0, 0.0, 0.0, 0.0, 0.0, 0.0, 0.0, 0.0, 0.0, 0.0, 0.0, 0.0, 0.0, 0.0, 0.0, 0.0, 0.0, 0.0, 0.0, 0.0, 0.0, 0.0, 0.0, 0.0]]\n",
      "Temperatura promedio al mediodía: 0.0\n"
     ]
    }
   ],
   "source": [
    "# Aplicaciones reales de las listas (estación meteorológica automática diaria).\n",
    "temps = [[0.0 for h in range (24)] for d in range (31)]\n",
    "\n",
    "print (temps)\n",
    "temps = [[0.0 for h in range(24)] for d in range (31)]\n",
    "#\n",
    "# la matriz se actualiza mágicamente aquí\n",
    "#\n",
    "\n",
    "suma = 0.0\n",
    "\n",
    "for day in temps:\n",
    "    suma += day[11]\n",
    "\n",
    "promedio= suma / 31\n",
    "\n",
    "print(\"Temperatura promedio al mediodía:\", promedio)"
   ]
  },
  {
   "cell_type": "code",
   "execution_count": null,
   "metadata": {},
   "outputs": [],
   "source": []
  }
 ],
 "metadata": {
  "kernelspec": {
   "display_name": "Python 3",
   "language": "python",
   "name": "python3"
  },
  "language_info": {
   "codemirror_mode": {
    "name": "ipython",
    "version": 3
   },
   "file_extension": ".py",
   "mimetype": "text/x-python",
   "name": "python",
   "nbconvert_exporter": "python",
   "pygments_lexer": "ipython3",
   "version": "3.8.3"
  }
 },
 "nbformat": 4,
 "nbformat_minor": 4
}
