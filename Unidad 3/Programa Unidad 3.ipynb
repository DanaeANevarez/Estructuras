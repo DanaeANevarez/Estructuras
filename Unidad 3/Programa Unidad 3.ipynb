{
 "cells": [
  {
   "cell_type": "markdown",
   "metadata": {},
   "source": [
    "# UNIDAD 3"
   ]
  },
  {
   "cell_type": "markdown",
   "metadata": {},
   "source": [
    "## Funciones"
   ]
  },
  {
   "cell_type": "code",
   "execution_count": 3,
   "metadata": {},
   "outputs": [],
   "source": [
    "def mi_funcion_hola():\n",
    "    print(\"Hola Mundo, desde mi funcion\")"
   ]
  },
  {
   "cell_type": "code",
   "execution_count": 4,
   "metadata": {},
   "outputs": [
    {
     "name": "stdout",
     "output_type": "stream",
     "text": [
      "Hola Mundo, desde mi funcion\n"
     ]
    }
   ],
   "source": [
    "mi_funcion_hola()"
   ]
  },
  {
   "cell_type": "code",
   "execution_count": 5,
   "metadata": {},
   "outputs": [
    {
     "name": "stdout",
     "output_type": "stream",
     "text": [
      "Hola Mundo, desde mi funcion\n"
     ]
    }
   ],
   "source": [
    "mi_funcion_hola()"
   ]
  },
  {
   "cell_type": "code",
   "execution_count": 6,
   "metadata": {},
   "outputs": [
    {
     "name": "stdout",
     "output_type": "stream",
     "text": [
      "2 por 1 = 2\n",
      "2 por 2 = 4\n",
      "2 por 3 = 6\n",
      "2 por 4 = 8\n",
      "2 por 5 = 10\n",
      "2 por 6 = 12\n",
      "2 por 7 = 14\n",
      "2 por 8 = 16\n",
      "2 por 9 = 18\n",
      "2 por 10 = 20\n"
     ]
    }
   ],
   "source": [
    "# Tabla de multiplicar del 2\n",
    "for z in range(1,2):\n",
    "    print(2, \"por\", z, \"=\", 2*1)\n",
    "for z in range(2,3):\n",
    "    print(2, \"por\", z, \"=\", 2*2)\n",
    "for z in range(3,4):\n",
    "    print(2, \"por\", z, \"=\", 2*3)\n",
    "for z in range(4,5):\n",
    "    print(2, \"por\", z, \"=\", 2*4)    \n",
    "for z in range(5,6):\n",
    "    print(2, \"por\", z, \"=\", 2*5)\n",
    "for z in range(6,7):\n",
    "    print(2, \"por\", z, \"=\", 2*6)\n",
    "for z in range(7,8):\n",
    "    print(2, \"por\", z, \"=\", 2*7)\n",
    "for z in range(8,9):\n",
    "    print(2, \"por\", z, \"=\", 2*8)\n",
    "for z in range(9,10):\n",
    "    print(2, \"por\", z, \"=\", 2*9)\n",
    "for z in range(10,11):\n",
    "    print(2, \"por\", z, \"=\", 2*10)"
   ]
  },
  {
   "cell_type": "code",
   "execution_count": 7,
   "metadata": {},
   "outputs": [],
   "source": [
    "def Tablas_multiplicar(x):\n",
    "    for z in range(1,11):\n",
    "        print(x, \"por\", z, \"=\", x * z)"
   ]
  },
  {
   "cell_type": "code",
   "execution_count": 8,
   "metadata": {},
   "outputs": [
    {
     "name": "stdout",
     "output_type": "stream",
     "text": [
      "10 por 1 = 10\n",
      "10 por 2 = 20\n",
      "10 por 3 = 30\n",
      "10 por 4 = 40\n",
      "10 por 5 = 50\n",
      "10 por 6 = 60\n",
      "10 por 7 = 70\n",
      "10 por 8 = 80\n",
      "10 por 9 = 90\n",
      "10 por 10 = 100\n"
     ]
    }
   ],
   "source": [
    "Tablas_multiplicar(10)"
   ]
  },
  {
   "cell_type": "code",
   "execution_count": 9,
   "metadata": {},
   "outputs": [
    {
     "name": "stdout",
     "output_type": "stream",
     "text": [
      "7 por 1 = 7\n",
      "7 por 2 = 14\n",
      "7 por 3 = 21\n",
      "7 por 4 = 28\n",
      "7 por 5 = 35\n",
      "7 por 6 = 42\n",
      "7 por 7 = 49\n",
      "7 por 8 = 56\n",
      "7 por 9 = 63\n",
      "7 por 10 = 70\n"
     ]
    }
   ],
   "source": [
    "Tablas_multiplicar(7)"
   ]
  },
  {
   "cell_type": "code",
   "execution_count": 10,
   "metadata": {},
   "outputs": [
    {
     "name": "stdout",
     "output_type": "stream",
     "text": [
      "50 por 1 = 50\n",
      "50 por 2 = 100\n",
      "50 por 3 = 150\n",
      "50 por 4 = 200\n",
      "50 por 5 = 250\n",
      "50 por 6 = 300\n",
      "50 por 7 = 350\n",
      "50 por 8 = 400\n",
      "50 por 9 = 450\n",
      "50 por 10 = 500\n"
     ]
    }
   ],
   "source": [
    "Tablas_multiplicar(50)"
   ]
  },
  {
   "cell_type": "code",
   "execution_count": 11,
   "metadata": {},
   "outputs": [
    {
     "name": "stdout",
     "output_type": "stream",
     "text": [
      "1543250 por 1 = 1543250\n",
      "1543250 por 2 = 3086500\n",
      "1543250 por 3 = 4629750\n",
      "1543250 por 4 = 6173000\n",
      "1543250 por 5 = 7716250\n",
      "1543250 por 6 = 9259500\n",
      "1543250 por 7 = 10802750\n",
      "1543250 por 8 = 12346000\n",
      "1543250 por 9 = 13889250\n",
      "1543250 por 10 = 15432500\n"
     ]
    }
   ],
   "source": [
    "Tablas_multiplicar(1543250)"
   ]
  },
  {
   "cell_type": "code",
   "execution_count": 17,
   "metadata": {},
   "outputs": [
    {
     "name": "stdout",
     "output_type": "stream",
     "text": [
      "12\n"
     ]
    }
   ],
   "source": [
    "def CalcularDoble(qaz):\n",
    "    qaz=qaz*2\n",
    "    return qaz\n",
    "x = CalcularDoble(6)\n",
    "print(x)"
   ]
  },
  {
   "cell_type": "code",
   "execution_count": 14,
   "metadata": {},
   "outputs": [
    {
     "name": "stdout",
     "output_type": "stream",
     "text": [
      "162\n"
     ]
    }
   ],
   "source": [
    "x = CalcularDoble(81)\n",
    "print(x)"
   ]
  },
  {
   "cell_type": "code",
   "execution_count": 15,
   "metadata": {},
   "outputs": [
    {
     "name": "stdout",
     "output_type": "stream",
     "text": [
      "1000\n"
     ]
    }
   ],
   "source": [
    "x = CalcularDoble(500)\n",
    "print(x)"
   ]
  },
  {
   "cell_type": "code",
   "execution_count": 16,
   "metadata": {},
   "outputs": [
    {
     "name": "stdout",
     "output_type": "stream",
     "text": [
      "45\n"
     ]
    }
   ],
   "source": [
    "def CalcularTriple(qaz):\n",
    "    qaz=qaz*3\n",
    "    return qaz\n",
    "\n",
    "x = CalcularTriple(15)\n",
    "print(x)"
   ]
  },
  {
   "cell_type": "markdown",
   "metadata": {},
   "source": [
    "## Paso de parámetros en base a su posición."
   ]
  },
  {
   "cell_type": "code",
   "execution_count": 6,
   "metadata": {},
   "outputs": [
    {
     "name": "stdout",
     "output_type": "stream",
     "text": [
      "Hola, mi nombre es Luke Skywalker\n",
      "Hola, mi nombre es Jesse Quick\n",
      "Hola, mi nombre es Clark Kent\n"
     ]
    }
   ],
   "source": [
    "def presentar(primerNombre, segundoNombre):\n",
    "    print(\"Hola, mi nombre es\", primerNombre, segundoNombre)\n",
    "\n",
    "presentar(\"Luke\", \"Skywalker\")\n",
    "presentar(\"Jesse\", \"Quick\")\n",
    "presentar(\"Clark\", \"Kent\")"
   ]
  },
  {
   "cell_type": "code",
   "execution_count": 7,
   "metadata": {},
   "outputs": [
    {
     "name": "stdout",
     "output_type": "stream",
     "text": [
      "Hola, mi nombre es Skywalker Luke mi edad es:  8\n",
      "Hola, mi nombre es Quick Jesse mi edad es:  5\n",
      "Hola, mi nombre es Kent Clark mi edad es:  23\n"
     ]
    }
   ],
   "source": [
    "def presentar(primerNombre, segundoNombre, edad):\n",
    "    print(\"Hola, mi nombre es\", primerNombre, segundoNombre, \"mi edad es: \", edad)\n",
    "\n",
    "presentar(\"Skywalker\" ,\"Luke\", 8)\n",
    "presentar(\"Quick\", \"Jesse\", 5)\n",
    "presentar(\"Kent\", \"Clark\", 23)"
   ]
  },
  {
   "cell_type": "markdown",
   "metadata": {},
   "source": [
    "## Paso de parámetros con palabras clave"
   ]
  },
  {
   "cell_type": "markdown",
   "metadata": {},
   "source": [
    "Los valores pasados a los parámetros son precedidos por el nombre del parámetro al que se le va a pasar el valor, seguido por el signo de *=*"
   ]
  },
  {
   "cell_type": "code",
   "execution_count": 10,
   "metadata": {},
   "outputs": [
    {
     "name": "stdout",
     "output_type": "stream",
     "text": [
      "Hola, mi nombre es James Bond\n",
      "Hola, mi nombre es James Bond\n",
      "Hola, mi nombre es Luke Skywalker\n"
     ]
    }
   ],
   "source": [
    "def presentar (primerNombre, segundoNombre):\n",
    "    print(\"Hola, mi nombre es\", primerNombre, segundoNombre)\n",
    "\n",
    "presentar(primerNombre = \"James\", segundoNombre = \"Bond\")\n",
    "presentar (\"James\", \"Bond\")\n",
    "presentar(segundoNombre = \"Skywalker\", primerNombre = \"Luke\")\n"
   ]
  },
  {
   "cell_type": "code",
   "execution_count": 15,
   "metadata": {},
   "outputs": [
    {
     "name": "stdout",
     "output_type": "stream",
     "text": [
      "Hola, mi nombre es Juan Escárpita\n",
      "Hola, mi nombre es Pedro González\n"
     ]
    }
   ],
   "source": [
    "# Especificar un parámetro con un valor por defecto.\n",
    "def presentar(primerNombre, segundoNombre = \"González\" ):\n",
    "    print(\"Hola, mi nombre es\", primerNombre, segundoNombre)\n",
    "presentar (\"Juan\", \"Escárpita\")\n",
    "presentar (\"Pedro\")"
   ]
  },
  {
   "cell_type": "markdown",
   "metadata": {},
   "source": [
    "## Alcance de las variables en funciones."
   ]
  },
  {
   "cell_type": "code",
   "execution_count": 17,
   "metadata": {},
   "outputs": [
    {
     "name": "stdout",
     "output_type": "stream",
     "text": [
      "123\n"
     ]
    }
   ],
   "source": [
    "def scopeTest():\n",
    "    x = 123\n",
    "    print(x)\n",
    "    \n",
    "scopeTest()\n"
   ]
  },
  {
   "cell_type": "code",
   "execution_count": 18,
   "metadata": {},
   "outputs": [
    {
     "name": "stdout",
     "output_type": "stream",
     "text": [
      "¿Conozco a la variable? 1\n",
      "1\n"
     ]
    }
   ],
   "source": [
    "def miFuncion():\n",
    "    print(\"¿Conozco a la variable?\", var)\n",
    "\n",
    "var = 1\n",
    "miFuncion()\n",
    "print(var)"
   ]
  },
  {
   "cell_type": "code",
   "execution_count": 19,
   "metadata": {},
   "outputs": [
    {
     "name": "stdout",
     "output_type": "stream",
     "text": [
      "¿Conozco a la variable? 2\n",
      "1\n"
     ]
    }
   ],
   "source": [
    "def miFuncion():\n",
    "    var = 2\n",
    "    print(\"¿Conozco a la variable?\", var)\n",
    "\n",
    "var = 1\n",
    "miFuncion()\n",
    "print(var)"
   ]
  },
  {
   "cell_type": "code",
   "execution_count": 20,
   "metadata": {},
   "outputs": [
    {
     "name": "stdout",
     "output_type": "stream",
     "text": [
      "¿Conozco a aquella variable? 2\n",
      "2\n"
     ]
    }
   ],
   "source": [
    "def miFuncion():\n",
    "    global var\n",
    "    var = 2\n",
    "    print(\"¿Conozco a aquella variable?\", var)\n",
    "\n",
    "var = 1\n",
    "miFuncion()\n",
    "print(var)\n"
   ]
  },
  {
   "cell_type": "code",
   "execution_count": 21,
   "metadata": {},
   "outputs": [
    {
     "name": "stdout",
     "output_type": "stream",
     "text": [
      "Yo obtuve 1\n",
      "Yo ahora tengo 2\n",
      "1\n"
     ]
    }
   ],
   "source": [
    "def miFuncion(n):\n",
    "    print(\"Yo obtuve\", n)\n",
    "    n += 1\n",
    "    print(\"Yo ahora tengo\", n)\n",
    "\n",
    "var = 1\n",
    "miFuncion(var)\n",
    "print(var)\n"
   ]
  },
  {
   "cell_type": "code",
   "execution_count": 25,
   "metadata": {},
   "outputs": [
    {
     "name": "stdout",
     "output_type": "stream",
     "text": [
      "28.680111097693512\n"
     ]
    }
   ],
   "source": [
    "def imc(peso, altura):\n",
    "    if altura < 1.0 or altura > 2.5 or peso < 20 or peso > 200:\n",
    "        return None\n",
    "    \n",
    "    return peso / altura ** 2\n",
    "\n",
    "print(imc(95, 1.82))\n"
   ]
  },
  {
   "cell_type": "markdown",
   "metadata": {},
   "source": [
    "## Tuplas y Diccionarios"
   ]
  },
  {
   "cell_type": "code",
   "execution_count": 1,
   "metadata": {},
   "outputs": [
    {
     "name": "stdout",
     "output_type": "stream",
     "text": [
      "1\n",
      "1000\n",
      "(10, 100, 1000)\n",
      "(1, 10)\n",
      "1\n",
      "10\n",
      "100\n",
      "1000\n"
     ]
    }
   ],
   "source": [
    "miTupla = (1, 10, 100, 1000)\n",
    "\n",
    "print(miTupla[0])\n",
    "print(miTupla[-1])\n",
    "print(miTupla[1:])\n",
    "print(miTupla[:-2])\n",
    "\n",
    "for elem in miTupla:\n",
    "    print(elem)"
   ]
  },
  {
   "cell_type": "code",
   "execution_count": 2,
   "metadata": {},
   "outputs": [
    {
     "ename": "AttributeError",
     "evalue": "'tuple' object has no attribute 'append'",
     "output_type": "error",
     "traceback": [
      "\u001b[1;31m---------------------------------------------------------------------------\u001b[0m",
      "\u001b[1;31mAttributeError\u001b[0m                            Traceback (most recent call last)",
      "\u001b[1;32m<ipython-input-2-6cb7020bfd1a>\u001b[0m in \u001b[0;36m<module>\u001b[1;34m\u001b[0m\n\u001b[0;32m      1\u001b[0m \u001b[0mmiTupla\u001b[0m \u001b[1;33m=\u001b[0m \u001b[1;33m(\u001b[0m\u001b[1;36m1\u001b[0m\u001b[1;33m,\u001b[0m \u001b[1;36m10\u001b[0m\u001b[1;33m,\u001b[0m \u001b[1;36m100\u001b[0m\u001b[1;33m,\u001b[0m \u001b[1;36m1000\u001b[0m\u001b[1;33m)\u001b[0m\u001b[1;33m\u001b[0m\u001b[1;33m\u001b[0m\u001b[0m\n\u001b[0;32m      2\u001b[0m \u001b[1;33m\u001b[0m\u001b[0m\n\u001b[1;32m----> 3\u001b[1;33m \u001b[0mmiTupla\u001b[0m\u001b[1;33m.\u001b[0m\u001b[0mappend\u001b[0m\u001b[1;33m(\u001b[0m\u001b[1;36m10000\u001b[0m\u001b[1;33m)\u001b[0m\u001b[1;33m\u001b[0m\u001b[1;33m\u001b[0m\u001b[0m\n\u001b[0m\u001b[0;32m      4\u001b[0m \u001b[1;32mdel\u001b[0m \u001b[0mmiTupla\u001b[0m\u001b[1;33m[\u001b[0m\u001b[1;36m0\u001b[0m\u001b[1;33m]\u001b[0m\u001b[1;33m\u001b[0m\u001b[1;33m\u001b[0m\u001b[0m\n\u001b[0;32m      5\u001b[0m \u001b[0mmiTupla\u001b[0m\u001b[1;33m[\u001b[0m\u001b[1;36m1\u001b[0m\u001b[1;33m]\u001b[0m \u001b[1;33m=\u001b[0m \u001b[1;33m-\u001b[0m\u001b[1;36m10\u001b[0m\u001b[1;33m\u001b[0m\u001b[1;33m\u001b[0m\u001b[0m\n",
      "\u001b[1;31mAttributeError\u001b[0m: 'tuple' object has no attribute 'append'"
     ]
    }
   ],
   "source": [
    "miTupla = (1, 10, 100, 1000)\n",
    "\n",
    "miTupla.append(10000)\n",
    "del miTupla[0]\n",
    "miTupla[1] = -10"
   ]
  },
  {
   "cell_type": "code",
   "execution_count": 6,
   "metadata": {},
   "outputs": [
    {
     "name": "stdout",
     "output_type": "stream",
     "text": [
      "9\n",
      "(1, 10, 100, 1000, 10000)\n",
      "(1, 10, 100, 1, 10, 100, 1, 10, 100)\n",
      "True\n",
      "False\n"
     ]
    }
   ],
   "source": [
    "miTupla = (1, 10, 100)\n",
    "\n",
    "t1 = miTupla + (1000, 10000)\n",
    "t2 = miTupla * 3\n",
    "\n",
    "print(len(t2))\n",
    "print(t1)\n",
    "print(t2)\n",
    "print(10 in miTupla)\n",
    "print(8 in miTupla)"
   ]
  },
  {
   "cell_type": "markdown",
   "metadata": {},
   "source": [
    "## Diccionarios en Python."
   ]
  },
  {
   "cell_type": "code",
   "execution_count": 8,
   "metadata": {},
   "outputs": [
    {
     "name": "stdout",
     "output_type": "stream",
     "text": [
      "{'gato': 'chat', 'perro': 'chien', 'caballo': 'cheval'}\n",
      "{'jefe': 5551234567, 'Suzy': 22657854310}\n",
      "{}\n"
     ]
    }
   ],
   "source": [
    "# Ejemplo de un diccionario biligue español - francés. \n",
    "dict = {\"gato\" : \"chat\", \"perro\" : \"chien\", \"caballo\" : \"cheval\"}\n",
    "numerosTelefono = {'jefe' : 5551234567, 'Suzy' : 22657854310}\n",
    "permisosEstudiantes = {\"captura_calif_parciales\":\"False\", \"Kardex\":\"True\"}\n",
    "permisosDocentes = {\"captura_calif_parciales\":\"True\", \"Kardex\":\"False\"}\n",
    "permisosCoordinadores = {\"captura_calif_parciales\":\"True\", \"Kardex\":\"True\"}\n",
    "\n",
    "diccionarioVacio = {}\n",
    "\n",
    "print(dict)\n",
    "print(numerosTelefono)\n",
    "print(diccionarioVacio)"
   ]
  },
  {
   "cell_type": "code",
   "execution_count": 9,
   "metadata": {},
   "outputs": [
    {
     "name": "stdout",
     "output_type": "stream",
     "text": [
      "gato -> chat\n",
      "leon no está en el diccionario\n",
      "caballo -> cheval\n"
     ]
    }
   ],
   "source": [
    "dict = {\"gato\" : \"chat\", \"perro\" : \"chien\", \"caballo\" : \"cheval\"}\n",
    "words = ['gato', 'leon', 'caballo']\n",
    "\n",
    "for word in words:\n",
    "    if word in dict:\n",
    "        print(word, \"->\", dict[word])\n",
    "    else:\n",
    "        print(word, \"no está en el diccionario\")\n"
   ]
  },
  {
   "cell_type": "code",
   "execution_count": 18,
   "metadata": {},
   "outputs": [
    {
     "name": "stdout",
     "output_type": "stream",
     "text": [
      "gato -> chat\n",
      "perro -> chien\n",
      "caballo -> cheval\n"
     ]
    }
   ],
   "source": [
    "dict = {\"gato\" : \"chat\", \"perro\" : \"chien\", \"caballo\" : \"cheval\"}\n",
    "\n",
    "for key in dict.keys():\n",
    "    print(key, \"->\", dict[key])"
   ]
  },
  {
   "cell_type": "code",
   "execution_count": 11,
   "metadata": {},
   "outputs": [
    {
     "name": "stdout",
     "output_type": "stream",
     "text": [
      "caballo -> cheval\n",
      "gato -> chat\n",
      "perro -> chien\n"
     ]
    }
   ],
   "source": [
    "# Ordenar las claves del diccionario con la función *sorted*\n",
    "dict = {\"gato\" : \"chat\", \"perro\" : \"chien\", \"caballo\" : \"cheval\"}\n",
    "\n",
    "for key in sorted(dict.keys()):\n",
    "    print(key, \"->\", dict[key])\n"
   ]
  },
  {
   "cell_type": "code",
   "execution_count": 12,
   "metadata": {},
   "outputs": [
    {
     "name": "stdout",
     "output_type": "stream",
     "text": [
      "0 -> chat\n",
      "1 -> chien\n",
      "2 -> cheval\n"
     ]
    }
   ],
   "source": [
    "# Ordenar las claves del diccionario con la función *sorted*\n",
    "dict = {\"0\" : \"chat\", \"1\" : \"chien\", \"2\" : \"cheval\"}\n",
    "\n",
    "for key in sorted(dict.keys()):\n",
    "    print(key, \"->\", dict[key])"
   ]
  },
  {
   "cell_type": "markdown",
   "metadata": {},
   "source": [
    "## Mayela Danae Ayala Nevárez."
   ]
  },
  {
   "cell_type": "markdown",
   "metadata": {},
   "source": [
    "## No. de Control: 19041342"
   ]
  },
  {
   "cell_type": "code",
   "execution_count": null,
   "metadata": {},
   "outputs": [],
   "source": []
  }
 ],
 "metadata": {
  "kernelspec": {
   "display_name": "Python 3",
   "language": "python",
   "name": "python3"
  },
  "language_info": {
   "codemirror_mode": {
    "name": "ipython",
    "version": 3
   },
   "file_extension": ".py",
   "mimetype": "text/x-python",
   "name": "python",
   "nbconvert_exporter": "python",
   "pygments_lexer": "ipython3",
   "version": "3.8.3"
  }
 },
 "nbformat": 4,
 "nbformat_minor": 4
}
