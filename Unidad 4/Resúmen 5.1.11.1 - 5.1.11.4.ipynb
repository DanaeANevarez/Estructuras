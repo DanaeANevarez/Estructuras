{
 "cells": [
  {
   "cell_type": "markdown",
   "metadata": {},
   "source": [
    "# Resúmen 5.1.11.1 - 5.1.11.4"
   ]
  },
  {
   "cell_type": "markdown",
   "metadata": {},
   "source": [
    "## El Cifrado César: encriptando un mensaje"
   ]
  },
  {
   "cell_type": "markdown",
   "metadata": {},
   "source": [
    "Se mostrarán cuatro programas simples para presentar algunos aspectos del procesamiento de cadenas en Python. \n",
    "\n",
    "El primer problema se llama Cifrado César.\n",
    "\n",
    "Este cifrado fue (probablemente) inventado y utilizado por Cayo Julio César y sus tropas durante las Guerras Galas. La idea es bastante simple: cada letra del mensaje se reemplaza por su consecuente más cercano (A se convierte en B, B se convierte en C, y así sucesivamente). La única excepción es Z, la cual se convierte en A.\n",
    "\n",
    "El programa que se presentará a continuación es una implementación muy simple (pero funcional) del algoritmo.\n",
    "\n",
    "Se ha escrito utilizando los siguientes supuestos:\n",
    "\n",
    "- Solo acepta letras latinas (nota: los romanos no usaban espacios en blanco ni dígitos).\n",
    "- Todas las letras del mensaje están en mayúsculas (nota: los romanos solo conocían las mayúsculas).\n",
    "\n",
    "El código, alimentado con este mensaje: AVE CAESAR"
   ]
  },
  {
   "cell_type": "code",
   "execution_count": 2,
   "metadata": {},
   "outputs": [
    {
     "name": "stdout",
     "output_type": "stream",
     "text": [
      "Ingresa tu mensaje: AVE CAESAR\n",
      "BWFDBFTBS\n"
     ]
    }
   ],
   "source": [
    "# Cifrado César\n",
    "text = input(\"Ingresa tu mensaje: \")\n",
    "cifrado = ''\n",
    "for char in text:\n",
    "    if not char.isalpha():\n",
    "        continue\n",
    "    char = char.upper()\n",
    "    code = ord(char) + 1\n",
    "    if code > ord('Z'):\n",
    "        code = ord('A')\n",
    "    cifrado += chr(code)\n",
    "\n",
    "print(cifrado)"
   ]
  },
  {
   "cell_type": "markdown",
   "metadata": {},
   "source": [
    "En el programa anterior podemos observar:\n",
    "\n",
    "- **Línea 02:** Pide al usuario que ingrese un mensaje (sin cifrar) de una línea.\n",
    "- **Línea 03:** Prepara una cadena para el mensaje cifrado (esta vacía por ahora).\n",
    "- **Línea 04:** Inicia la iteración a través del mensaje.\n",
    "- **Línea 05:** Si el caracter actual no es alfabético...\n",
    "- **Línea 06:** ...ignoralo.\n",
    "- **Línea 07:** Convierta la letra a mayúsculas (es preferible hacerlo a ciegas, en lugar de verificar si es necesario o no).\n",
    "- **Línea 08:** Obtén el código de la letra e increméntalo en uno.\n",
    "- **Línea 09:** Ai el código resultante ha \"dejado\" el alfabeto latino (si es mayor que el código de la Z)...\n",
    "- **Línea 10:** ... cámbialo al código de la A.\n",
    "- **Línea 11:** Agrega el carácter recibido al final del mensaje cifrado.\n",
    "- **Línea 13:** Imprime el cifrado."
   ]
  },
  {
   "cell_type": "markdown",
   "metadata": {},
   "source": [
    "La operación inversa ahora debería ser clara. Solo se presenta el código tal como está, sin ninguna explicación."
   ]
  },
  {
   "cell_type": "code",
   "execution_count": 4,
   "metadata": {},
   "outputs": [
    {
     "name": "stdout",
     "output_type": "stream",
     "text": [
      "Ingresa tu criptograma: BWFDBFTBS\n",
      "AVECAESAR\n"
     ]
    }
   ],
   "source": [
    "# Cifrado César - descifrar un mensaje\n",
    "cifrado = input('Ingresa tu criptograma: ')\n",
    "text = ''\n",
    "for char in cifrado:\n",
    "    if not char.isalpha():\n",
    "        continue\n",
    "    char = char.upper()\n",
    "    code = ord(char) - 1\n",
    "    if code < ord('A'):\n",
    "        code = ord('Z')\n",
    "    text += chr(code)\n",
    "\n",
    "print(text)"
   ]
  },
  {
   "cell_type": "markdown",
   "metadata": {},
   "source": [
    "## El Procesador de Números."
   ]
  },
  {
   "cell_type": "markdown",
   "metadata": {},
   "source": [
    "El tercer programa muestra un método simple que permite ingresar una línea llena de números y sumarlos fácilmente. Nota: la **función input(), combinada junto con las funciones int() o float(), no es lo adecuado para este propósito.**\n",
    "\n",
    "El procesamiento será extremadamente fácil: queremos que se sumen los números."
   ]
  },
  {
   "cell_type": "code",
   "execution_count": 5,
   "metadata": {},
   "outputs": [
    {
     "name": "stdout",
     "output_type": "stream",
     "text": [
      "Ingresa una línea de números, sepáralos con espacios: 5 9 7 12 56 845\n",
      "El total es: 934.0\n"
     ]
    }
   ],
   "source": [
    "#Procesador de números\n",
    "\n",
    "linea = input(\"Ingresa una línea de números, sepáralos con espacios: \")\n",
    "strings = linea.split()\n",
    "total = 0\n",
    "try:\n",
    "    for substr in strings:\n",
    "        total += float(substr)\n",
    "    print(\"El total es:\", total)\n",
    "except:\n",
    "    print(substr, \"no es un numero.\")"
   ]
  },
  {
   "cell_type": "markdown",
   "metadata": {},
   "source": [
    "En el programa anterior se observa:\n",
    "- **Línea 03:** Pide al usuario que ingrese una línea llena de cualquier cantidad de números (los números pueden ser flotantes).\n",
    "- **Línea 04:** Divide la línea en una lista con subcadenas.\n",
    "- **Línea 05:** Se inicializa la suma total a cero.\n",
    "- **Línea 06:** Como la conversión de cadena a flotante puede generar una excepción, es mejor continuar con la protección del bloque try-except.\n",
    "- **Línea 07:** Itera a través de la lista...\n",
    "- **Línea 08:** ...e intenta convertir todos sus elementos en números flotantes; si funciona, aumenta la suma.\n",
    "- **Línea 09:** Todo está bien hasta ahora, así que imprime la suma.\n",
    "- **Línea 10:** El programa termina aquí en caso de error.\n",
    "- **Línea 11:** Imprime un mensaje de diagnóstico que muestra al usuario el motivo del error."
   ]
  },
  {
   "cell_type": "markdown",
   "metadata": {},
   "source": [
    "## El Validador IBAN"
   ]
  },
  {
   "cell_type": "markdown",
   "metadata": {},
   "source": [
    "El cuarto programa implementa (en una forma ligeramente simplificada) un algoritmo utilizado por los bancos europeos para especificar los números de cuenta. El estándar llamado IBAN (Número de cuenta bancaria internacional) proporciona un método simple y bastante confiable para validar los números de cuenta contra errores tipográficos simples que pueden ocurrir durante la reescritura del número, por ejemplo, de documentos en papel, como facturas o facturas en las computadoras.\n",
    "\n",
    "**Un número de cuenta compatible con IBAN consta de:**\n",
    "\n",
    "- Un código de país de dos letras tomado del estándar ISO 3166-1 (por ejemplo, FR para Francia, GB para Gran Bretaña DE para Alemania, y así sucesivamente).\n",
    "- Dos dígitos de verificación utilizados para realizar las verificaciones de validez: pruebas rápidas y simples, pero no totalmente confiables, que muestran si un número es inválido (distorsionado por un error tipográfico) o valido.\n",
    "- El número de cuenta real (hasta 30 caracteres alfanuméricos; la longitud de esa parte depende del país).\n",
    "\n",
    "**El estándar dice que la validación requiere los siguientes pasos:**\n",
    "\n",
    "- **Paso 1:** Verificar que la longitud total del IBAN sea correcta según el país (este programa no lo hará, pero puedes modificar el código para cumplir con este requisito si lo deseas; nota: pero debes enseñar al código a conocer todas las longitudes utilizadas en Europa).\n",
    "- **Paso 2:** Mueve los cuatro caracteres iniciales al final de la cadena (es decir, el código del país y los dígitos de verificación).\n",
    "- **Paso 3:** Reemplaza cada letra en la cadena con dos dígitos, expandiendo así la cadena, donde A = 10, B = 11 ... Z = 35.\n",
    "- **Paso 4:** Interpreta la cadena como un entero decimal y calcula el residuo de ese número dividiendolo entre 97. Si el residuo es 1, pasa la prueba de verificación de dígitos y el IBAN puede ser válido."
   ]
  },
  {
   "cell_type": "code",
   "execution_count": 6,
   "metadata": {},
   "outputs": [
    {
     "name": "stdout",
     "output_type": "stream",
     "text": [
      "Ingresa IBAN, por favor: ISO 302014\n",
      "El IBAN ingresado es demasiado corto.\n"
     ]
    }
   ],
   "source": [
    "# Validador IBAN\n",
    "\n",
    "iban = input(\"Ingresa IBAN, por favor: \")\n",
    "iban = iban.replace(' ','')\n",
    "if not iban.isalnum():\n",
    "    print(\"Has introducido caracteres no válidos.\")\n",
    "elif len(iban) < 15:\n",
    "    print(\"El IBAN ingresado es demasiado corto.\")\n",
    "elif len(iban) > 31:\n",
    "    print(\"El IBAN ingresado es demasiado largo.\")\n",
    "else:\n",
    "    iban = (iban[4:] + iban[0:4]).upper()\n",
    "    iban2 = ''\n",
    "    for ch in iban:\n",
    "        if ch.isdigit():\n",
    "            iban2 += ch\n",
    "        else:\n",
    "            iban2 += str(10 + ord(ch) - ord('A'))\n",
    "    ibann = int(iban2)\n",
    "    if ibann % 97 == 1:\n",
    "        print(\"El IBAN ingresado es válido.\")\n",
    "    else:\n",
    "        print(\"El IBAN ingresado no es válido.\")"
   ]
  },
  {
   "cell_type": "markdown",
   "metadata": {},
   "source": [
    "En el programa anterior podemos observar:\n",
    "- **Línea 03:** Pide al usuario que ingrese el IBAN (el número puede contener espacios, ya que mejoran significativamente la legibilidad del número...\n",
    "- **Línea 04:** ...pero remueve los espacios de inmediato).\n",
    "- **Línea 05:** El IBAN ingresado debe constar solo de dígitos y letras, de lo contrario...\n",
    "- **Línea 06:** ...muestra un mensaje.\n",
    "- **Línea 07:** El IBAN no debe tener menos de 15 caracteres (esta es la variante más corta, utilizada en Noruega).\n",
    "- **Línea 08:** Si es más corto, se informa al usuario.\n",
    "- **Línea 09:** Además, el IBAN no puede tener más de 31 caracteres (esta es la variante más larga, utilizada en Malta).\n",
    "- **Línea 10:** Si es más largo, se le informa al usuario.\n",
    "- **Línea 11:** Se comienza con el procesamiento.\n",
    "- **Línea 12:** Se mueven los cuatro caracteres iniciales al final del número y se convierten todas las letras a mayúsculas (paso 02 del algoritmo).\n",
    "- **Línea 13:** Esta es la variable utilizada para completar el número, creada al reemplazar las letras con dígitos (de acuerdo con el paso 03 del algoritmo).\n",
    "- **Línea 14:** Iterar a través del IBAN.\n",
    "- **Línea 15:** Si el caracter es un digito...\n",
    "- **Línea 16:** Se copia.\n",
    "- **Línea 17:** De lo contrario...\n",
    "- **Línea 18:** ...conviértelo en dos dígitos (observa cómo se hace aquí).\n",
    "- **Línea 19:** La forma convertida del IBAN está lista: ahora se convierte en un número entero.\n",
    "- **Línea 20:** ¿El residuo de la división de iban2 entre 97 es igual a 1?\n",
    "- **Línea 21:** Si es así, entonces el número es correcto.\n",
    "- **Línea 22:** De lo contrario...\n",
    "- **Línea 23:** ...el número no es válido."
   ]
  },
  {
   "cell_type": "markdown",
   "metadata": {},
   "source": [
    "## Mayela Danae Ayala Nevárez.\n",
    "## No. de Control: 19041342"
   ]
  },
  {
   "cell_type": "code",
   "execution_count": null,
   "metadata": {},
   "outputs": [],
   "source": []
  }
 ],
 "metadata": {
  "kernelspec": {
   "display_name": "Python 3",
   "language": "python",
   "name": "python3"
  },
  "language_info": {
   "codemirror_mode": {
    "name": "ipython",
    "version": 3
   },
   "file_extension": ".py",
   "mimetype": "text/x-python",
   "name": "python",
   "nbconvert_exporter": "python",
   "pygments_lexer": "ipython3",
   "version": "3.8.3"
  }
 },
 "nbformat": 4,
 "nbformat_minor": 4
}
