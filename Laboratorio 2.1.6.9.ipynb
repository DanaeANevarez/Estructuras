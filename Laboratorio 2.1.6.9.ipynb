{
 "cells": [
  {
   "cell_type": "markdown",
   "metadata": {},
   "source": [
    "## Laboratorio 2.1.6.9\n",
    "### Entradas y Salidas Simples."
   ]
  },
  {
   "cell_type": "code",
   "execution_count": 3,
   "metadata": {
    "scrolled": true
   },
   "outputs": [
    {
     "name": "stdout",
     "output_type": "stream",
     "text": [
      "Inserte un número por favor: 80\n",
      "Inserte otro número por favor: 8\n",
      "La suma de los dos números es:  88.0\n",
      "La resta de los dos números es:  72.0\n",
      "La multipicación de los dos números es:  640.0\n",
      "La división de los dos números es:  10.0\n",
      "\n",
      "¡Eso es todo, amigos!\n"
     ]
    }
   ],
   "source": [
    "# ingresa un valor flotante para la variable a aquí\n",
    "a = float(input (\"Inserte un número por favor: \"))\n",
    "# ingresa un valor flotante para la variable b aquí\n",
    "b = float(input (\"Inserte otro número por favor: \"))\n",
    "# muestra el resultado de la suma aquí \n",
    "suma = a + b\n",
    "print (\"La suma de los dos números es: \", suma)\n",
    "# muestra el resultado de la resta aquí\n",
    "resta = a - b\n",
    "print (\"La resta de los dos números es: \", resta)\n",
    "# muestra el resultado de la multiplicación aquí\n",
    "mult = a * b\n",
    "print (\"La multipicación de los dos números es: \", mult)\n",
    "# muestra el resultado de la división aquí\n",
    "div = a / b\n",
    "print (\"La división de los dos números es: \", div)\n",
    "\n",
    "print(\"\\n¡Eso es todo, amigos!\")"
   ]
  },
  {
   "cell_type": "markdown",
   "metadata": {},
   "source": [
    "#### Mayela Danae Ayala Nevárez."
   ]
  }
 ],
 "metadata": {
  "kernelspec": {
   "display_name": "Python 3",
   "language": "python",
   "name": "python3"
  },
  "language_info": {
   "codemirror_mode": {
    "name": "ipython",
    "version": 3
   },
   "file_extension": ".py",
   "mimetype": "text/x-python",
   "name": "python",
   "nbconvert_exporter": "python",
   "pygments_lexer": "ipython3",
   "version": "3.8.3"
  }
 },
 "nbformat": 4,
 "nbformat_minor": 4
}
