{
 "cells": [
  {
   "cell_type": "markdown",
   "metadata": {},
   "source": [
    "# Resúmen 4.1.6.11"
   ]
  },
  {
   "cell_type": "markdown",
   "metadata": {},
   "source": [
    " 1. Los diccionarios son *colecciones indexadas de datos, mutables y desordenadas. (*En Python 3.6x los diccionarios están ordenados de manera predeterminada.\n",
    "\n",
    "Cada diccionario es un par de clave : valor. Se puede crear empleado la siguiente sintaxis:"
   ]
  },
  {
   "cell_type": "code",
   "execution_count": 4,
   "metadata": {},
   "outputs": [
    {
     "ename": "NameError",
     "evalue": "name 'clave1' is not defined",
     "output_type": "error",
     "traceback": [
      "\u001b[1;31m---------------------------------------------------------------------------\u001b[0m",
      "\u001b[1;31mNameError\u001b[0m                                 Traceback (most recent call last)",
      "\u001b[1;32m<ipython-input-4-0af64ba37b7e>\u001b[0m in \u001b[0;36m<module>\u001b[1;34m\u001b[0m\n\u001b[0;32m      1\u001b[0m miDictionario = {\n\u001b[1;32m----> 2\u001b[1;33m     \u001b[0mclave1\u001b[0m \u001b[1;33m:\u001b[0m \u001b[0mvalor1\u001b[0m\u001b[1;33m,\u001b[0m\u001b[1;33m\u001b[0m\u001b[1;33m\u001b[0m\u001b[0m\n\u001b[0m\u001b[0;32m      3\u001b[0m     \u001b[0mclave2\u001b[0m \u001b[1;33m:\u001b[0m \u001b[0mvalor2\u001b[0m\u001b[1;33m,\u001b[0m\u001b[1;33m\u001b[0m\u001b[1;33m\u001b[0m\u001b[0m\n\u001b[0;32m      4\u001b[0m     \u001b[0mclave3\u001b[0m \u001b[1;33m:\u001b[0m \u001b[0mvalor3\u001b[0m\u001b[1;33m,\u001b[0m\u001b[1;33m\u001b[0m\u001b[1;33m\u001b[0m\u001b[0m\n\u001b[0;32m      5\u001b[0m     }\n",
      "\u001b[1;31mNameError\u001b[0m: name 'clave1' is not defined"
     ]
    }
   ],
   "source": [
    "miDictionario = {\n",
    "    clave1 : valor1,\n",
    "    clave2 : valor2,\n",
    "    clave3 : valor3,\n",
    "    }"
   ]
  },
  {
   "cell_type": "markdown",
   "metadata": {},
   "source": [
    " 2. Si se desea acceder a un elemento del diccionario, se puede hacer haciendo referencia a su clave colocándola dentro de corchetes (ejemplo 1) o utilizando el método get():"
   ]
  },
  {
   "cell_type": "code",
   "execution_count": 3,
   "metadata": {},
   "outputs": [
    {
     "name": "stdout",
     "output_type": "stream",
     "text": [
      "tierra\n",
      "agua\n"
     ]
    }
   ],
   "source": [
    "polEspDict = {\n",
    "    \"kwiat\" : \"flor\",\n",
    "    \"woda\"  : \"agua\",\n",
    "    \"gleba\" : \"tierra\"\n",
    "    }\n",
    "\n",
    "elemento1 = polEspDict[\"gleba\"]    # ejemplo 1\n",
    "print(elemento1)    # salida: tierra\n",
    "\n",
    "elemento2 = polEspDict.get(\"woda\")\n",
    "print(elemento2)    # salida: agua"
   ]
  },
  {
   "cell_type": "markdown",
   "metadata": {},
   "source": [
    " 3. Si se desea cambiar el valor asociado a una clave especifica, se puede hacer haciendo referencia a la clave del elemento, a continuación se muestra un ejemplo:"
   ]
  },
  {
   "cell_type": "code",
   "execution_count": 7,
   "metadata": {},
   "outputs": [
    {
     "name": "stdout",
     "output_type": "stream",
     "text": [
      "cerradura\n"
     ]
    }
   ],
   "source": [
    "polEspDict = {\n",
    "    \"zamek\" : \"castillo\",\n",
    "    \"woda\"  : \"agua\",\n",
    "    \"gleba\" : \"tierra\"\n",
    "    }\n",
    "\n",
    "polEspDict[\"zamek\"] = \"cerradura\"\n",
    "item = polEspDict[\"zamek\"]    # salida: cerradura \n",
    "print(item)"
   ]
  },
  {
   "cell_type": "markdown",
   "metadata": {},
   "source": [
    " 4. Para agregar o eliminar una clave (junto con su valor asociado), emplea la siguiente sintaxis:\n",
    "\n"
   ]
  },
  {
   "cell_type": "code",
   "execution_count": 8,
   "metadata": {},
   "outputs": [
    {
     "name": "stdout",
     "output_type": "stream",
     "text": [
      "{'Adan': 3456783958}\n",
      "{}\n"
     ]
    }
   ],
   "source": [
    "miDirectorioTelefonico = {}    # un diccionario vacio\n",
    "\n",
    "miDirectorioTelefonico [\"Adan\"] = 3456783958    # crear o añadir un par clave-valor\n",
    "print(miDirectorioTelefonico)    # salida: {'Adan': 3456783958}\n",
    "\n",
    "del miDirectorioTelefonico [\"Adan\"]\n",
    "print(miDirectorioTelefonico)    # salida: {}"
   ]
  },
  {
   "cell_type": "markdown",
   "metadata": {},
   "source": [
    " 5. Se puede emplear el bucle for para iterar a través del diccionario, por ejemplo:\n",
    "\n"
   ]
  },
  {
   "cell_type": "code",
   "execution_count": 11,
   "metadata": {},
   "outputs": [
    {
     "name": "stdout",
     "output_type": "stream",
     "text": [
      "zamek\n",
      "woda\n",
      "gleba\n"
     ]
    }
   ],
   "source": [
    "polEspDict = {\n",
    "    \"zamek\" : \"castillo\",\n",
    "    \"woda\"  : \"agua\",\n",
    "    \"gleba\" : \"tierra\"\n",
    "    }\n",
    "\n",
    "for item in polEspDict:\n",
    "    print(item)    # salida: zamek\n",
    "                   #          woda\n",
    "                   #          gleba"
   ]
  },
  {
   "cell_type": "markdown",
   "metadata": {},
   "source": [
    " 6. Si deseas examinar los elementos (claves y valores) del diccionario, puedes emplear el método items() por ejemplo:\n",
    "\n"
   ]
  },
  {
   "cell_type": "code",
   "execution_count": 12,
   "metadata": {},
   "outputs": [
    {
     "name": "stdout",
     "output_type": "stream",
     "text": [
      "Pol/Esp -> zamek : castillo\n",
      "Pol/Esp -> woda : agua\n",
      "Pol/Esp -> gleba : tierra\n"
     ]
    }
   ],
   "source": [
    "polEspDict = {\n",
    "    \"zamek\" : \"castillo\",\n",
    "    \"woda\"  : \"agua\",\n",
    "    \"gleba\" : \"tierra\"\n",
    "    }\n",
    "\n",
    "for clave, valor in polEspDict.items():\n",
    "    print(\"Pol/Esp ->\", clave, \":\", valor)"
   ]
  },
  {
   "cell_type": "markdown",
   "metadata": {},
   "source": [
    " 7. Para comprobar si una clave existe en un diccionario, se puede emplear la palabra reservada in:\n",
    "\n"
   ]
  },
  {
   "cell_type": "code",
   "execution_count": 13,
   "metadata": {},
   "outputs": [
    {
     "name": "stdout",
     "output_type": "stream",
     "text": [
      "SI\n"
     ]
    }
   ],
   "source": [
    "polEspDict = {\n",
    "    \"zamek\" : \"castillo\",\n",
    "    \"woda\"  : \"agua\",\n",
    "    \"gleba\" : \"tierra\"\n",
    "    }\n",
    "\n",
    "if \"zamek\" in polEspDict:\n",
    "    print(\"SI\")\n",
    "else:\n",
    "    print(\"NO\")"
   ]
  },
  {
   "cell_type": "markdown",
   "metadata": {},
   "source": [
    " 8. Se puede emplear la palabra reservada del para eliminar un elemento, o un diccionario entero. Para eliminar todos los elementos de un diccionario se debe emplear el método clear():\n",
    "\n"
   ]
  },
  {
   "cell_type": "code",
   "execution_count": 14,
   "metadata": {},
   "outputs": [
    {
     "name": "stdout",
     "output_type": "stream",
     "text": [
      "3\n",
      "2\n",
      "0\n"
     ]
    }
   ],
   "source": [
    "polEspDict = {\n",
    "    \"zamek\" : \"castillo\",\n",
    "    \"woda\"  : \"agua\",\n",
    "    \"gleba\" : \"tierra\"\n",
    "    }\n",
    "\n",
    "print(len(polEspDict))    # salida: 3\n",
    "del polEspDict[\"zamek\"]    # elimina un elemento\n",
    "print(len(polEspDict))    # salida: 2\n",
    "\n",
    "polEspDict.clear()   # elimina todos los elementos\n",
    "print(len(polEspDict))    # salida: 0\n",
    "\n",
    "del polEspDict    # elimina el diccionario"
   ]
  },
  {
   "cell_type": "markdown",
   "metadata": {},
   "source": [
    " 9. Para copiar un diccionario, emplea el método copy():\n",
    "\n"
   ]
  },
  {
   "cell_type": "code",
   "execution_count": 16,
   "metadata": {},
   "outputs": [
    {
     "name": "stdout",
     "output_type": "stream",
     "text": [
      "{'zamek': 'castillo', 'woda': 'agua', 'gleba': 'tierra'}\n"
     ]
    }
   ],
   "source": [
    "polEspDict = {\n",
    "    \"zamek\" : \"castillo\",\n",
    "    \"woda\"  : \"agua\",\n",
    "    \"gleba\" : \"tierra\"\n",
    "    }\n",
    "\n",
    "copyDict = polEspDict.copy()\n",
    "print (polEspDict)"
   ]
  },
  {
   "cell_type": "markdown",
   "metadata": {},
   "source": [
    "## Mayela Danae Ayala Nevárez.\n",
    "## No. de Control: 19041342"
   ]
  },
  {
   "cell_type": "code",
   "execution_count": null,
   "metadata": {},
   "outputs": [],
   "source": []
  }
 ],
 "metadata": {
  "kernelspec": {
   "display_name": "Python 3",
   "language": "python",
   "name": "python3"
  },
  "language_info": {
   "codemirror_mode": {
    "name": "ipython",
    "version": 3
   },
   "file_extension": ".py",
   "mimetype": "text/x-python",
   "name": "python",
   "nbconvert_exporter": "python",
   "pygments_lexer": "ipython3",
   "version": "3.8.3"
  }
 },
 "nbformat": 4,
 "nbformat_minor": 4
}
