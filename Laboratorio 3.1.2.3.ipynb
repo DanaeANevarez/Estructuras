{
 "cells": [
  {
   "cell_type": "markdown",
   "metadata": {},
   "source": [
    "## Laboratorio 3.1.2.3\n",
    "### Ciclo While."
   ]
  },
  {
   "cell_type": "code",
   "execution_count": 11,
   "metadata": {},
   "outputs": [
    {
     "name": "stdout",
     "output_type": "stream",
     "text": [
      "\n",
      "+================================+\n",
      "| Bienvenido a mi juego, muggle! |\n",
      "| Introduce un numero entero     |\n",
      "| y adivina que numero es        |\n",
      "| elegido para ti.               |\n",
      "| ¿Cual es el numero secreto?    | \n",
      "+================================+\n",
      "\n",
      " Por favor, introduce un número: 111\n",
      "¡Ja, ja! ¡Estás atrapado en mi ciclo!\n",
      " Por favor, introduce un número: 777\n",
      "¡Bien hecho, muggle! Eres libre ahora\n"
     ]
    }
   ],
   "source": [
    "num_secreto = 777\n",
    "print (\n",
    "    \n",
    "\"\"\"\n",
    "+================================+\n",
    "| Bienvenido a mi juego, muggle! |\n",
    "| Introduce un numero entero     |\n",
    "| y adivina que numero es        |\n",
    "| elegido para ti.               |\n",
    "| ¿Cual es el numero secreto?    | \n",
    "+================================+\n",
    "\"\"\")\n",
    "\n",
    "resp = 0\n",
    "\n",
    "while resp != 777:\n",
    "    resp = int(input(\" Por favor, introduce un número: \"))\n",
    "    if resp == num_secreto:\n",
    "        print(\"¡Bien hecho, muggle! Eres libre ahora\")\n",
    "    else:\n",
    "        print (\"¡Ja, ja! ¡Estás atrapado en mi ciclo!\")\n"
   ]
  },
  {
   "cell_type": "markdown",
   "metadata": {},
   "source": [
    "#### Mayela Danae Ayala Nevárez."
   ]
  }
 ],
 "metadata": {
  "kernelspec": {
   "display_name": "Python 3",
   "language": "python",
   "name": "python3"
  },
  "language_info": {
   "codemirror_mode": {
    "name": "ipython",
    "version": 3
   },
   "file_extension": ".py",
   "mimetype": "text/x-python",
   "name": "python",
   "nbconvert_exporter": "python",
   "pygments_lexer": "ipython3",
   "version": "3.8.3"
  }
 },
 "nbformat": 4,
 "nbformat_minor": 4
}
