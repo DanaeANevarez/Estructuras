{
 "cells": [
  {
   "cell_type": "markdown",
   "metadata": {},
   "source": [
    "## Laboratorio 2.1.1.20\n",
    "### Dando Formato a la Salida"
   ]
  },
  {
   "cell_type": "code",
   "execution_count": 4,
   "metadata": {},
   "outputs": [
    {
     "name": "stdout",
     "output_type": "stream",
     "text": [
      "     *\n",
      "    * *\n",
      "   *   *\n",
      "  *     *\n",
      " ***   ***\n",
      "   *   *\n",
      "   *   *\n",
      "   *****\n",
      "\n"
     ]
    }
   ],
   "source": [
    "print(\"     *\\n\",\"   * *\\n\",\"  *   *\\n\",\" *     *\\n\",\"***   ***\\n\",\"  *   *\\n\",\"  *   *\\n\",\"  *****\\n\")"
   ]
  },
  {
   "cell_type": "code",
   "execution_count": 18,
   "metadata": {},
   "outputs": [
    {
     "name": "stdout",
     "output_type": "stream",
     "text": [
      "       *\n",
      "   *      *\n",
      "  *        *\n",
      " *          *\n",
      "***        ***\n",
      "  *        *\n",
      "  *        *\n",
      "  **********\n"
     ]
    }
   ],
   "source": [
    "print(\"       *\")\n",
    "print(\"   *      *\")\n",
    "print(\"  *        *\")\n",
    "print(\" *          *\")\n",
    "print(\"***        ***\")\n",
    "print(\"  *        *\")\n",
    "print(\"  *        *\")\n",
    "print(\"  **********\")\n"
   ]
  },
  {
   "cell_type": "code",
   "execution_count": 24,
   "metadata": {},
   "outputs": [
    {
     "name": "stdout",
     "output_type": "stream",
     "text": [
      "    *         *     \n",
      "   * *       * *    \n",
      "  *   *     *   *   \n",
      " *     *   *     *  \n",
      "***   *** ***   *** \n",
      "  *   *     *   *   \n",
      "  *   *     *   *   \n",
      "  *****     *****   \n"
     ]
    }
   ],
   "source": [
    "print(\"    *     \"*2)\n",
    "print(\"   * *    \"*2)\n",
    "print(\"  *   *   \"*2)\n",
    "print(\" *     *  \"*2)\n",
    "print(\"***   *** \"*2)\n",
    "print(\"  *   *   \"*2)\n",
    "print(\"  *   *   \"*2)\n",
    "print(\"  *****   \"*2)\n"
   ]
  },
  {
   "cell_type": "markdown",
   "metadata": {},
   "source": [
    "#### Mayela Danae Ayala Nevárez."
   ]
  }
 ],
 "metadata": {
  "kernelspec": {
   "display_name": "Python 3",
   "language": "python",
   "name": "python3"
  },
  "language_info": {
   "codemirror_mode": {
    "name": "ipython",
    "version": 3
   },
   "file_extension": ".py",
   "mimetype": "text/x-python",
   "name": "python",
   "nbconvert_exporter": "python",
   "pygments_lexer": "ipython3",
   "version": "3.8.3"
  }
 },
 "nbformat": 4,
 "nbformat_minor": 4
}
