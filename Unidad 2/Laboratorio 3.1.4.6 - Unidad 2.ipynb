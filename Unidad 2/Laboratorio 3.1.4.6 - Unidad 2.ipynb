{
 "cells": [
  {
   "cell_type": "markdown",
   "metadata": {},
   "source": [
    "# Laboratorio 3.1.4.6 - Lo básico de listas.\n"
   ]
  },
  {
   "cell_type": "code",
   "execution_count": 1,
   "metadata": {},
   "outputs": [
    {
     "name": "stdout",
     "output_type": "stream",
     "text": [
      "ingresa el valor a sustituir: 11\n",
      "4\n",
      "[1, 2, 11, 4]\n"
     ]
    }
   ],
   "source": [
    "ListaSombrero = [1,2,3,4,5] # Lista de numeros ocultos en el sombrero\n",
    "\n",
    "# Paso 1: Escribe una linea de codigo que solicite el usuario.\n",
    "# para reemplazar el numero de en medio con un numero entero ingresado por el usuario.\n",
    "ListaSombrero[2] = int(input(\"ingresa el valor a sustituir: \"))\n",
    "\n",
    "# Paso 2: Escribe aqui la linea de codigo que elimine el ultimo elemento de la lista.\n",
    "del ListaSombrero[4]\n",
    "\n",
    "# Paso 3: Escriba aqui una linea de codigo que imprima la longitud de la lista existente.\n",
    "print (len(ListaSombrero))\n",
    "print (ListaSombrero)"
   ]
  },
  {
   "cell_type": "markdown",
   "metadata": {},
   "source": [
    "### Mayela Danae Ayala Nevárez."
   ]
  }
 ],
 "metadata": {
  "kernelspec": {
   "display_name": "Python 3",
   "language": "python",
   "name": "python3"
  },
  "language_info": {
   "codemirror_mode": {
    "name": "ipython",
    "version": 3
   },
   "file_extension": ".py",
   "mimetype": "text/x-python",
   "name": "python",
   "nbconvert_exporter": "python",
   "pygments_lexer": "ipython3",
   "version": "3.8.3"
  }
 },
 "nbformat": 4,
 "nbformat_minor": 4
}
