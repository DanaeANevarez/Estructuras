{
 "cells": [
  {
   "cell_type": "markdown",
   "metadata": {},
   "source": [
    "# Laboratorio 5.1.11.6"
   ]
  },
  {
   "cell_type": "markdown",
   "metadata": {},
   "source": [
    "# Mejorando el Cifrado César."
   ]
  },
  {
   "cell_type": "code",
   "execution_count": 3,
   "metadata": {},
   "outputs": [
    {
     "name": "stdout",
     "output_type": "stream",
     "text": [
      "Tu texto: hola\n",
      "Valor de desplazamiento: 4\n",
      "Texto cifrado:  lsoe\n"
     ]
    }
   ],
   "source": [
    "# Introducimos texto a cifrar.\n",
    "texto = input(\"Tu texto: \")\n",
    "# Se crean las cadenas de caracteres.\n",
    "if texto == texto.upper(): #Para Mayúsculas.\n",
    "    abc = \"ABCDEFGHIJKLMNÑOPQRSTUVWXYZ\"\n",
    "else: #Para minúsculas.\n",
    "    abc = \"abcdefghijklmnñopqrstuvwxyz\"\n",
    "# Se definen los valores de desplazamiento.\n",
    "k = int(input(\"Valor de desplazamiento: \"))\n",
    "# Se crea la cadena cifrad.\n",
    "cifrad = \"\"\n",
    "# Se realiza el cifrado.\n",
    "for c in texto:\n",
    "    if c in abc:\n",
    "        cifrad += abc[(abc.index(c) + k % (len(abc)))]\n",
    "    else:\n",
    "        cifrad += c\n",
    "# Se visualiza el texto final.\n",
    "print(\"Texto cifrado: \", cifrad)"
   ]
  },
  {
   "cell_type": "markdown",
   "metadata": {},
   "source": [
    "## Mayela Danae Ayala Nevárez.\n",
    "## No. de Control: 19041342"
   ]
  },
  {
   "cell_type": "code",
   "execution_count": null,
   "metadata": {},
   "outputs": [],
   "source": []
  }
 ],
 "metadata": {
  "kernelspec": {
   "display_name": "Python 3",
   "language": "python",
   "name": "python3"
  },
  "language_info": {
   "codemirror_mode": {
    "name": "ipython",
    "version": 3
   },
   "file_extension": ".py",
   "mimetype": "text/x-python",
   "name": "python",
   "nbconvert_exporter": "python",
   "pygments_lexer": "ipython3",
   "version": "3.8.3"
  }
 },
 "nbformat": 4,
 "nbformat_minor": 4
}
