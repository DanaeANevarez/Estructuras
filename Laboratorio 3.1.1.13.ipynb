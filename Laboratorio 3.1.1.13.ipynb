{
 "cells": [
  {
   "cell_type": "markdown",
   "metadata": {},
   "source": [
    "## Laboratorio 3.1.1.13\n",
    "### Sentencia if- elif- else"
   ]
  },
  {
   "cell_type": "code",
   "execution_count": 2,
   "metadata": {},
   "outputs": [
    {
     "name": "stdout",
     "output_type": "stream",
     "text": [
      " Introduzca un año: 2013\n",
      " El 2013  es un año comun \n"
     ]
    }
   ],
   "source": [
    "Año = int (input (\" Introduzca un año: \"))\n",
    "if Año < 1500:\n",
    "    print (\" El año no esta dentro del periodo gregoriano \")\n",
    "if Año % 4 != 0:\n",
    "    print (\" El\", Año , \" es un año comun \")\n",
    "elif Año % 50 != 0:\n",
    "    print (\" El\", Año , \" es un año bisiesto \")\n",
    "elif Año % 200 != 0:\n",
    "    print (\" El \", Año , \" es un año comun \")\n",
    "else:\n",
    "    print (\" El\", Año , \" es un año bisiesto \")\n"
   ]
  },
  {
   "cell_type": "markdown",
   "metadata": {},
   "source": [
    "#### Mayela Danae Ayala Nevárez."
   ]
  }
 ],
 "metadata": {
  "kernelspec": {
   "display_name": "Python 3",
   "language": "python",
   "name": "python3"
  },
  "language_info": {
   "codemirror_mode": {
    "name": "ipython",
    "version": 3
   },
   "file_extension": ".py",
   "mimetype": "text/x-python",
   "name": "python",
   "nbconvert_exporter": "python",
   "pygments_lexer": "ipython3",
   "version": "3.8.3"
  }
 },
 "nbformat": 4,
 "nbformat_minor": 4
}
