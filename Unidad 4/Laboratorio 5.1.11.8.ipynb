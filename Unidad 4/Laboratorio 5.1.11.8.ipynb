{
 "cells": [
  {
   "cell_type": "markdown",
   "metadata": {},
   "source": [
    "# Laboratorio 5.1.11.8"
   ]
  },
  {
   "cell_type": "markdown",
   "metadata": {},
   "source": [
    "# Anagramas"
   ]
  },
  {
   "cell_type": "code",
   "execution_count": 6,
   "metadata": {},
   "outputs": [
    {
     "name": "stdout",
     "output_type": "stream",
     "text": [
      "Introduce una palabra: modern\n",
      "Introduce otra palabra: norman\n",
      "Las palabras no son anagramas.\n"
     ]
    }
   ],
   "source": [
    "pal1 = input(\"Introduce una palabra: \")\n",
    "pal2 = input(\"Introduce otra palabra: \")\n",
    "\n",
    "def anagrama(pal1, pal2): \n",
    "    pal1 = pal1.lower()\n",
    "    pal1 = pal1.replace(\" \", \"\")\n",
    "    pal2 = pal2.lower()\n",
    "    pal2 = pal2.replace(\" \", \"\")\n",
    "    \n",
    "if(sorted(pal1) == sorted(pal2)): \n",
    "    print(\"Las palabras son anagramas.\")  \n",
    "else: \n",
    "    print(\"Las palabras no son anagramas.\")       "
   ]
  },
  {
   "cell_type": "code",
   "execution_count": 5,
   "metadata": {},
   "outputs": [
    {
     "name": "stdout",
     "output_type": "stream",
     "text": [
      "Introduce una palabra: listen\n",
      "Introduce otra palabra: silent\n",
      "Las palabras son anagramas.\n"
     ]
    }
   ],
   "source": [
    "pal1 = input(\"Introduce una palabra: \")\n",
    "pal2 = input(\"Introduce otra palabra: \")\n",
    "\n",
    "def anagrama(pal1, pal2): \n",
    "    pal1 = pal1.lower()\n",
    "    pal1 = pal1.replace(\" \", \"\")\n",
    "    pal2 = pal2.lower()\n",
    "    pal2 = pal2.replace(\" \", \"\")\n",
    "    \n",
    "if(sorted(pal1) == sorted(pal2)): \n",
    "    print(\"Las palabras son anagramas.\")  \n",
    "else: \n",
    "    print(\"Las palabras no son anagramas.\")       "
   ]
  },
  {
   "cell_type": "markdown",
   "metadata": {},
   "source": [
    "## Mayela Danae Ayala Nevárez.\n",
    "## No. de Control: 19041342"
   ]
  },
  {
   "cell_type": "code",
   "execution_count": null,
   "metadata": {},
   "outputs": [],
   "source": []
  }
 ],
 "metadata": {
  "kernelspec": {
   "display_name": "Python 3",
   "language": "python",
   "name": "python3"
  },
  "language_info": {
   "codemirror_mode": {
    "name": "ipython",
    "version": 3
   },
   "file_extension": ".py",
   "mimetype": "text/x-python",
   "name": "python",
   "nbconvert_exporter": "python",
   "pygments_lexer": "ipython3",
   "version": "3.8.3"
  }
 },
 "nbformat": 4,
 "nbformat_minor": 4
}
